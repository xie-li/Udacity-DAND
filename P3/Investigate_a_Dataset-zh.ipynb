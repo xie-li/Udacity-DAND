{
 "cells": [
  {
   "cell_type": "markdown",
   "metadata": {},
   "source": [
    "> **提示**：欢迎参加“调查数据集”项目！引用段会添加这类提示，来帮助你制定调查方法。在你提交项目之前，你可以浏览一下报告，将这一段删除，以保持报告的简洁性。首先，你需要双击该 Markdown 框(cell)，将标题更改为与数据集和调查相关的标题。\n",
    "\n",
    "# 项目：调查数据集（TMDb电影数据）\n",
    "\n",
    "## 目录\n",
    "<ul>\n",
    "<li><a href=\"#intro\">简介</a></li>\n",
    "<li><a href=\"#wrangling\">数据整理</a></li>\n",
    "<li><a href=\"#eda\">探索性数据分析</a></li>\n",
    "<li><a href=\"#conclusions\">结论</a></li>\n",
    "</ul>\n",
    "\n",
    "<a id='intro'></a>\n",
    "## 简介\n",
    "\n",
    "> **提示**：在报告的这一部分，你需要首先对已选择进行分析的数据集进行简要的介绍。在这一部分末尾，对你计划在报告过程中探索的问题进行描述。你需要建立至少包含一个因变量和三个自变量的分析报告。如果你不确定要问什么问题，请务必先熟悉数据集、数据集变量以及数据集上下文，以便确定要探索的问题。\n",
    "\n",
    "> 如果尚未选择和下载数据，务必先进行这一步，再回到这里。如需在这个工作区中处理数据，还需要将其上传到工作区。因此，请单击左上角的 jupyter 图标，回到工作区目录。右上角有一个‘上传’按钮，可以将你的数据文件添加到工作区。然后单击 .ipynb 文件名，回到这里。"
   ]
  },
  {
   "cell_type": "code",
   "execution_count": 1,
   "metadata": {},
   "outputs": [
    {
     "name": "stdout",
     "output_type": "stream",
     "text": [
      "导入完成\n"
     ]
    }
   ],
   "source": [
    "# 用这个框对你计划使用的所有数据包进行设置\n",
    "#   导入语句。\n",
    "import pandas as pd\n",
    "import numpy as np\n",
    "import matplotlib.pyplot as plt\n",
    "import seaborn as sns\n",
    "\n",
    "# 务必包含一个‘magic word’（带有“%”的***），以便将你的视图\n",
    "#   与 notebook 保持一致。关于更多信息，请访问该网页：\n",
    "#   http://ipython.readthedocs.io/en/stable/interactive/magics.html\n",
    "print('导入完成')"
   ]
  },
  {
   "cell_type": "markdown",
   "metadata": {},
   "source": [
    "<a id='wrangling'></a>\n",
    "## 数据整理\n",
    "\n",
    "> **提示**：在报告的这一部分中载入数据，检查简洁度，然后整理和清理数据集，以便进行分析。请务必将步骤仔细归档，并确定清理决策是否正确。\n",
    "\n",
    "### 常规属性"
   ]
  },
  {
   "cell_type": "code",
   "execution_count": 2,
   "metadata": {},
   "outputs": [],
   "source": [
    "#获取有空值的列：\n",
    "def columns_has_nan(df):\n",
    "    ret = []\n",
    "    #获取数据集的总行数\n",
    "    total_rows = df.shape[0]\n",
    "    #返回有空值的列\n",
    "    ret = [col for col in df.columns if df[col].count()<total_rows]\n",
    "    return ret"
   ]
  },
  {
   "cell_type": "code",
   "execution_count": 4,
   "metadata": {
    "scrolled": true
   },
   "outputs": [],
   "source": [
    "# 加载数据并打印几行。进行这几项操作，来检查数据\n",
    "#   类型，以及是否有缺失数据或错误数据的情况。\n",
    "df = pd.read_csv('tmdb-movies.csv')\n",
    "# print('数据的维度:{}'.format(df.shape))\n",
    "# print('-'*40)\n",
    "# print('缺失数据统计:\\n{}'.format(df.isnull().sum()))\n",
    "# print('-'*40)\n",
    "# print('缺失的列包括:{}'.format(columns_has_nan(df)))\n",
    "# print('-'*40)\n",
    "# print('重复的列数:{}'.format(df[df.duplicated()].shape[0]))"
   ]
  },
  {
   "cell_type": "markdown",
   "metadata": {},
   "source": [
    "```\n",
    "数据的维度:(10866, 21)\n",
    "----------------------------------------\n",
    "缺失数据统计:\n",
    "id                         0\n",
    "imdb_id                   10\n",
    "popularity                 0\n",
    "budget                     0\n",
    "revenue                    0\n",
    "original_title             0\n",
    "cast                      76\n",
    "homepage                7930\n",
    "director                  44\n",
    "tagline                 2824\n",
    "keywords                1493\n",
    "overview                   4\n",
    "runtime                    0\n",
    "genres                    23\n",
    "production_companies    1030\n",
    "release_date               0\n",
    "vote_count                 0\n",
    "vote_average               0\n",
    "release_year               0\n",
    "budget_adj                 0\n",
    "revenue_adj                0\n",
    "dtype: int64\n",
    "----------------------------------------\n",
    "缺失的列包括:['imdb_id', 'cast', 'homepage', 'director', 'tagline', 'keywords', 'overview', 'genres', 'production_companies']\n",
    "----------------------------------------\n",
    "重复的列数:1\n",
    "\n",
    "```\n",
    "\n",
    "##### 由上述统计信息可以看出，整个数据集包括`10866`行，`21`列，有缺失的数据列为:'imdb_id', 'cast', 'homepage', 'director', 'tagline', 'keywords', 'overview', 'genres', 'production_companies',有重复的数据`1`条\n",
    "##### 缺失最多的为homepage列，缺失7930条，因为该列表示主页，对于此次统计分析无关联，可以不考虑该列"
   ]
  },
  {
   "cell_type": "code",
   "execution_count": 5,
   "metadata": {},
   "outputs": [
    {
     "name": "stdout",
     "output_type": "stream",
     "text": [
      "<class 'pandas.core.frame.DataFrame'>\n",
      "RangeIndex: 10866 entries, 0 to 10865\n",
      "Data columns (total 13 columns):\n",
      "id                      10866 non-null int64\n",
      "popularity              10866 non-null float64\n",
      "budget                  10866 non-null int64\n",
      "revenue                 10866 non-null int64\n",
      "original_title          10866 non-null object\n",
      "cast                    10790 non-null object\n",
      "director                10822 non-null object\n",
      "genres                  10843 non-null object\n",
      "production_companies    9836 non-null object\n",
      "vote_average            10866 non-null float64\n",
      "budget_adj              10866 non-null float64\n",
      "revenue_adj             10866 non-null float64\n",
      "release_year            10866 non-null int64\n",
      "dtypes: float64(4), int64(4), object(5)\n",
      "memory usage: 1.1+ MB\n"
     ]
    }
   ],
   "source": [
    "#选取需要的列，部分列值对这次分析无相关性\n",
    "movies_data = df.loc[:,['id','popularity','budget','revenue','original_title','cast','director','genres','production_companies','vote_average','budget_adj','revenue_adj','release_year']]\n",
    "movies_data.info()"
   ]
  },
  {
   "cell_type": "code",
   "execution_count": 6,
   "metadata": {},
   "outputs": [
    {
     "data": {
      "text/html": [
       "<div>\n",
       "<style scoped>\n",
       "    .dataframe tbody tr th:only-of-type {\n",
       "        vertical-align: middle;\n",
       "    }\n",
       "\n",
       "    .dataframe tbody tr th {\n",
       "        vertical-align: top;\n",
       "    }\n",
       "\n",
       "    .dataframe thead th {\n",
       "        text-align: right;\n",
       "    }\n",
       "</style>\n",
       "<table border=\"1\" class=\"dataframe\">\n",
       "  <thead>\n",
       "    <tr style=\"text-align: right;\">\n",
       "      <th></th>\n",
       "      <th>id</th>\n",
       "      <th>popularity</th>\n",
       "      <th>budget</th>\n",
       "      <th>revenue</th>\n",
       "      <th>vote_average</th>\n",
       "      <th>budget_adj</th>\n",
       "      <th>revenue_adj</th>\n",
       "      <th>release_year</th>\n",
       "    </tr>\n",
       "  </thead>\n",
       "  <tbody>\n",
       "    <tr>\n",
       "      <th>count</th>\n",
       "      <td>10866.000000</td>\n",
       "      <td>10866.000000</td>\n",
       "      <td>1.086600e+04</td>\n",
       "      <td>1.086600e+04</td>\n",
       "      <td>10866.000000</td>\n",
       "      <td>1.086600e+04</td>\n",
       "      <td>1.086600e+04</td>\n",
       "      <td>10866.000000</td>\n",
       "    </tr>\n",
       "    <tr>\n",
       "      <th>mean</th>\n",
       "      <td>66064.177434</td>\n",
       "      <td>0.646441</td>\n",
       "      <td>1.462570e+07</td>\n",
       "      <td>3.982332e+07</td>\n",
       "      <td>5.974922</td>\n",
       "      <td>1.755104e+07</td>\n",
       "      <td>5.136436e+07</td>\n",
       "      <td>2001.322658</td>\n",
       "    </tr>\n",
       "    <tr>\n",
       "      <th>std</th>\n",
       "      <td>92130.136561</td>\n",
       "      <td>1.000185</td>\n",
       "      <td>3.091321e+07</td>\n",
       "      <td>1.170035e+08</td>\n",
       "      <td>0.935142</td>\n",
       "      <td>3.430616e+07</td>\n",
       "      <td>1.446325e+08</td>\n",
       "      <td>12.812941</td>\n",
       "    </tr>\n",
       "    <tr>\n",
       "      <th>min</th>\n",
       "      <td>5.000000</td>\n",
       "      <td>0.000065</td>\n",
       "      <td>0.000000e+00</td>\n",
       "      <td>0.000000e+00</td>\n",
       "      <td>1.500000</td>\n",
       "      <td>0.000000e+00</td>\n",
       "      <td>0.000000e+00</td>\n",
       "      <td>1960.000000</td>\n",
       "    </tr>\n",
       "    <tr>\n",
       "      <th>25%</th>\n",
       "      <td>10596.250000</td>\n",
       "      <td>0.207583</td>\n",
       "      <td>0.000000e+00</td>\n",
       "      <td>0.000000e+00</td>\n",
       "      <td>5.400000</td>\n",
       "      <td>0.000000e+00</td>\n",
       "      <td>0.000000e+00</td>\n",
       "      <td>1995.000000</td>\n",
       "    </tr>\n",
       "    <tr>\n",
       "      <th>50%</th>\n",
       "      <td>20669.000000</td>\n",
       "      <td>0.383856</td>\n",
       "      <td>0.000000e+00</td>\n",
       "      <td>0.000000e+00</td>\n",
       "      <td>6.000000</td>\n",
       "      <td>0.000000e+00</td>\n",
       "      <td>0.000000e+00</td>\n",
       "      <td>2006.000000</td>\n",
       "    </tr>\n",
       "    <tr>\n",
       "      <th>75%</th>\n",
       "      <td>75610.000000</td>\n",
       "      <td>0.713817</td>\n",
       "      <td>1.500000e+07</td>\n",
       "      <td>2.400000e+07</td>\n",
       "      <td>6.600000</td>\n",
       "      <td>2.085325e+07</td>\n",
       "      <td>3.369710e+07</td>\n",
       "      <td>2011.000000</td>\n",
       "    </tr>\n",
       "    <tr>\n",
       "      <th>max</th>\n",
       "      <td>417859.000000</td>\n",
       "      <td>32.985763</td>\n",
       "      <td>4.250000e+08</td>\n",
       "      <td>2.781506e+09</td>\n",
       "      <td>9.200000</td>\n",
       "      <td>4.250000e+08</td>\n",
       "      <td>2.827124e+09</td>\n",
       "      <td>2015.000000</td>\n",
       "    </tr>\n",
       "  </tbody>\n",
       "</table>\n",
       "</div>"
      ],
      "text/plain": [
       "                  id    popularity        budget       revenue  vote_average  \\\n",
       "count   10866.000000  10866.000000  1.086600e+04  1.086600e+04  10866.000000   \n",
       "mean    66064.177434      0.646441  1.462570e+07  3.982332e+07      5.974922   \n",
       "std     92130.136561      1.000185  3.091321e+07  1.170035e+08      0.935142   \n",
       "min         5.000000      0.000065  0.000000e+00  0.000000e+00      1.500000   \n",
       "25%     10596.250000      0.207583  0.000000e+00  0.000000e+00      5.400000   \n",
       "50%     20669.000000      0.383856  0.000000e+00  0.000000e+00      6.000000   \n",
       "75%     75610.000000      0.713817  1.500000e+07  2.400000e+07      6.600000   \n",
       "max    417859.000000     32.985763  4.250000e+08  2.781506e+09      9.200000   \n",
       "\n",
       "         budget_adj   revenue_adj  release_year  \n",
       "count  1.086600e+04  1.086600e+04  10866.000000  \n",
       "mean   1.755104e+07  5.136436e+07   2001.322658  \n",
       "std    3.430616e+07  1.446325e+08     12.812941  \n",
       "min    0.000000e+00  0.000000e+00   1960.000000  \n",
       "25%    0.000000e+00  0.000000e+00   1995.000000  \n",
       "50%    0.000000e+00  0.000000e+00   2006.000000  \n",
       "75%    2.085325e+07  3.369710e+07   2011.000000  \n",
       "max    4.250000e+08  2.827124e+09   2015.000000  "
      ]
     },
     "execution_count": 6,
     "metadata": {},
     "output_type": "execute_result"
    }
   ],
   "source": [
    "movies_data.describe()"
   ]
  },
  {
   "cell_type": "code",
   "execution_count": null,
   "metadata": {},
   "outputs": [],
   "source": []
  },
  {
   "cell_type": "markdown",
   "metadata": {},
   "source": [
    "> **提示**：_不应_在每个 notebook 框 (cell) 中进行太多操作。可以自由创建框，来进行数据探索。在这个项目中，可以在初始 notebook 中进行大量探索性操作。不要求对其进行组织，但请务必仔细阅读备注，理解每个代码框的用途。完成分析之后，你可以创建 notebook 副本，在其中去除多余数据，组织好你的每一步分析，从而形成信息连贯、结构紧密的报告。\n",
    "\n",
    "> **提示**：请务必向你的读者告知你在调查中采取的步骤。在每个代码框或每组相关代码框后面，用 markdown 框对前面的框中的调查结果向读者进行说明。你需要尽量做到这一点，以便读者更好地理解后续框中的内容。\n",
    "\n",
    "### 数据清理（空值、重复值、异常值处理。）"
   ]
  },
  {
   "cell_type": "code",
   "execution_count": 7,
   "metadata": {},
   "outputs": [
    {
     "data": {
      "text/html": [
       "<div>\n",
       "<style scoped>\n",
       "    .dataframe tbody tr th:only-of-type {\n",
       "        vertical-align: middle;\n",
       "    }\n",
       "\n",
       "    .dataframe tbody tr th {\n",
       "        vertical-align: top;\n",
       "    }\n",
       "\n",
       "    .dataframe thead th {\n",
       "        text-align: right;\n",
       "    }\n",
       "</style>\n",
       "<table border=\"1\" class=\"dataframe\">\n",
       "  <thead>\n",
       "    <tr style=\"text-align: right;\">\n",
       "      <th></th>\n",
       "      <th>id</th>\n",
       "      <th>popularity</th>\n",
       "      <th>budget</th>\n",
       "      <th>revenue</th>\n",
       "      <th>vote_average</th>\n",
       "      <th>budget_adj</th>\n",
       "      <th>revenue_adj</th>\n",
       "      <th>release_year</th>\n",
       "    </tr>\n",
       "  </thead>\n",
       "  <tbody>\n",
       "    <tr>\n",
       "      <th>count</th>\n",
       "      <td>8928.000000</td>\n",
       "      <td>8928.000000</td>\n",
       "      <td>8.928000e+03</td>\n",
       "      <td>8.928000e+03</td>\n",
       "      <td>8928.000000</td>\n",
       "      <td>8.928000e+03</td>\n",
       "      <td>8.928000e+03</td>\n",
       "      <td>8928.000000</td>\n",
       "    </tr>\n",
       "    <tr>\n",
       "      <th>mean</th>\n",
       "      <td>62644.526322</td>\n",
       "      <td>0.474667</td>\n",
       "      <td>1.132612e+07</td>\n",
       "      <td>2.299155e+07</td>\n",
       "      <td>5.901960</td>\n",
       "      <td>1.428549e+07</td>\n",
       "      <td>3.218216e+07</td>\n",
       "      <td>2000.515905</td>\n",
       "    </tr>\n",
       "    <tr>\n",
       "      <th>std</th>\n",
       "      <td>90241.453442</td>\n",
       "      <td>0.344941</td>\n",
       "      <td>2.266976e+07</td>\n",
       "      <td>5.949262e+07</td>\n",
       "      <td>0.900974</td>\n",
       "      <td>2.717413e+07</td>\n",
       "      <td>8.317467e+07</td>\n",
       "      <td>13.133594</td>\n",
       "    </tr>\n",
       "    <tr>\n",
       "      <th>min</th>\n",
       "      <td>5.000000</td>\n",
       "      <td>0.000188</td>\n",
       "      <td>0.000000e+00</td>\n",
       "      <td>0.000000e+00</td>\n",
       "      <td>1.500000</td>\n",
       "      <td>0.000000e+00</td>\n",
       "      <td>0.000000e+00</td>\n",
       "      <td>1960.000000</td>\n",
       "    </tr>\n",
       "    <tr>\n",
       "      <th>25%</th>\n",
       "      <td>10548.750000</td>\n",
       "      <td>0.218221</td>\n",
       "      <td>0.000000e+00</td>\n",
       "      <td>0.000000e+00</td>\n",
       "      <td>5.300000</td>\n",
       "      <td>0.000000e+00</td>\n",
       "      <td>0.000000e+00</td>\n",
       "      <td>1993.000000</td>\n",
       "    </tr>\n",
       "    <tr>\n",
       "      <th>50%</th>\n",
       "      <td>18892.500000</td>\n",
       "      <td>0.383084</td>\n",
       "      <td>0.000000e+00</td>\n",
       "      <td>0.000000e+00</td>\n",
       "      <td>6.000000</td>\n",
       "      <td>0.000000e+00</td>\n",
       "      <td>0.000000e+00</td>\n",
       "      <td>2005.000000</td>\n",
       "    </tr>\n",
       "    <tr>\n",
       "      <th>75%</th>\n",
       "      <td>65064.250000</td>\n",
       "      <td>0.640441</td>\n",
       "      <td>1.400000e+07</td>\n",
       "      <td>1.783700e+07</td>\n",
       "      <td>6.500000</td>\n",
       "      <td>1.824449e+07</td>\n",
       "      <td>2.540808e+07</td>\n",
       "      <td>2011.000000</td>\n",
       "    </tr>\n",
       "    <tr>\n",
       "      <th>max</th>\n",
       "      <td>417859.000000</td>\n",
       "      <td>1.591827</td>\n",
       "      <td>4.250000e+08</td>\n",
       "      <td>1.123747e+09</td>\n",
       "      <td>8.700000</td>\n",
       "      <td>4.250000e+08</td>\n",
       "      <td>1.583050e+09</td>\n",
       "      <td>2015.000000</td>\n",
       "    </tr>\n",
       "  </tbody>\n",
       "</table>\n",
       "</div>"
      ],
      "text/plain": [
       "                  id   popularity        budget       revenue  vote_average  \\\n",
       "count    8928.000000  8928.000000  8.928000e+03  8.928000e+03   8928.000000   \n",
       "mean    62644.526322     0.474667  1.132612e+07  2.299155e+07      5.901960   \n",
       "std     90241.453442     0.344941  2.266976e+07  5.949262e+07      0.900974   \n",
       "min         5.000000     0.000188  0.000000e+00  0.000000e+00      1.500000   \n",
       "25%     10548.750000     0.218221  0.000000e+00  0.000000e+00      5.300000   \n",
       "50%     18892.500000     0.383084  0.000000e+00  0.000000e+00      6.000000   \n",
       "75%     65064.250000     0.640441  1.400000e+07  1.783700e+07      6.500000   \n",
       "max    417859.000000     1.591827  4.250000e+08  1.123747e+09      8.700000   \n",
       "\n",
       "         budget_adj   revenue_adj  release_year  \n",
       "count  8.928000e+03  8.928000e+03   8928.000000  \n",
       "mean   1.428549e+07  3.218216e+07   2000.515905  \n",
       "std    2.717413e+07  8.317467e+07     13.133594  \n",
       "min    0.000000e+00  0.000000e+00   1960.000000  \n",
       "25%    0.000000e+00  0.000000e+00   1993.000000  \n",
       "50%    0.000000e+00  0.000000e+00   2005.000000  \n",
       "75%    1.824449e+07  2.540808e+07   2011.000000  \n",
       "max    4.250000e+08  1.583050e+09   2015.000000  "
      ]
     },
     "execution_count": 7,
     "metadata": {},
     "output_type": "execute_result"
    }
   ],
   "source": [
    "# 在讨论数据结构和需要解决的任何问题之后，\n",
    "#   在本部分的第二小部分进行这些清理步骤。\n",
    "##删除为空的行\n",
    "movies_data.dropna(inplace=True)\n",
    "#删除重复的行\n",
    "movies_data.drop_duplicates(inplace=True)\n",
    "#通过上述分析，发现popularity的值可能有异常\n",
    "popularity_Q1 = movies_data['popularity'].quantile(0.25)\n",
    "popularity_Q3 = movies_data['popularity'].quantile(0.75)\n",
    "popularity_IQR = popularity_Q3-popularity_Q1\n",
    "outlier_step = popularity_IQR*1.5\n",
    "movies_data.query('popularity > @popularity_Q1 - @outlier_step and popularity < @popularity_Q3 + @outlier_step',inplace=True)\n",
    "movies_data.describe()"
   ]
  },
  {
   "cell_type": "code",
   "execution_count": 8,
   "metadata": {},
   "outputs": [
    {
     "data": {
      "text/html": [
       "<div>\n",
       "<style scoped>\n",
       "    .dataframe tbody tr th:only-of-type {\n",
       "        vertical-align: middle;\n",
       "    }\n",
       "\n",
       "    .dataframe tbody tr th {\n",
       "        vertical-align: top;\n",
       "    }\n",
       "\n",
       "    .dataframe thead th {\n",
       "        text-align: right;\n",
       "    }\n",
       "</style>\n",
       "<table border=\"1\" class=\"dataframe\">\n",
       "  <thead>\n",
       "    <tr style=\"text-align: right;\">\n",
       "      <th></th>\n",
       "      <th>id</th>\n",
       "      <th>popularity</th>\n",
       "      <th>budget</th>\n",
       "      <th>revenue</th>\n",
       "      <th>original_title</th>\n",
       "      <th>cast</th>\n",
       "      <th>director</th>\n",
       "      <th>genres</th>\n",
       "      <th>production_companies</th>\n",
       "      <th>vote_average</th>\n",
       "      <th>budget_adj</th>\n",
       "      <th>revenue_adj</th>\n",
       "      <th>release_year</th>\n",
       "    </tr>\n",
       "  </thead>\n",
       "  <tbody>\n",
       "    <tr>\n",
       "      <th>104</th>\n",
       "      <td>188222</td>\n",
       "      <td>1.532997</td>\n",
       "      <td>30000000</td>\n",
       "      <td>49263404</td>\n",
       "      <td>Entourage</td>\n",
       "      <td>Jeremy Piven|Adrian Grenier|Jerry Ferrara|Kevi...</td>\n",
       "      <td>Doug Ellin</td>\n",
       "      <td>Comedy</td>\n",
       "      <td>Warner Bros.|Closest to the Hole Productions</td>\n",
       "      <td>6.2</td>\n",
       "      <td>2.759999e+07</td>\n",
       "      <td>4.532231e+07</td>\n",
       "      <td>2015</td>\n",
       "    </tr>\n",
       "    <tr>\n",
       "      <th>105</th>\n",
       "      <td>252838</td>\n",
       "      <td>1.510096</td>\n",
       "      <td>23000000</td>\n",
       "      <td>79799880</td>\n",
       "      <td>The Wedding Ringer</td>\n",
       "      <td>Kevin Hart|Josh Gad|Kaley Cuoco|Affion Crocket...</td>\n",
       "      <td>Jeremy Garelick</td>\n",
       "      <td>Comedy</td>\n",
       "      <td>Miramax Films|Screen Gems|LStar Capital</td>\n",
       "      <td>6.5</td>\n",
       "      <td>2.115999e+07</td>\n",
       "      <td>7.341586e+07</td>\n",
       "      <td>2015</td>\n",
       "    </tr>\n",
       "    <tr>\n",
       "      <th>106</th>\n",
       "      <td>273477</td>\n",
       "      <td>1.499614</td>\n",
       "      <td>15000000</td>\n",
       "      <td>14860766</td>\n",
       "      <td>Scouts Guide to the Zombie Apocalypse</td>\n",
       "      <td>Tye Sheridan|Logan Miller|Joey Morgan|Sarah Du...</td>\n",
       "      <td>Christopher B. Landon</td>\n",
       "      <td>Comedy|Horror</td>\n",
       "      <td>Paramount Pictures|Oops Doughnuts Productions|...</td>\n",
       "      <td>6.2</td>\n",
       "      <td>1.379999e+07</td>\n",
       "      <td>1.367190e+07</td>\n",
       "      <td>2015</td>\n",
       "    </tr>\n",
       "    <tr>\n",
       "      <th>107</th>\n",
       "      <td>298312</td>\n",
       "      <td>1.495112</td>\n",
       "      <td>5000000</td>\n",
       "      <td>98450062</td>\n",
       "      <td>The Visit</td>\n",
       "      <td>Olivia DeJonge|Ed Oxenbould|Kathryn Hahn|Benja...</td>\n",
       "      <td>M. Night Shyamalan</td>\n",
       "      <td>Horror|Thriller</td>\n",
       "      <td>Blumhouse Productions|Blinding Edge Pictures</td>\n",
       "      <td>5.9</td>\n",
       "      <td>4.599998e+06</td>\n",
       "      <td>9.057402e+07</td>\n",
       "      <td>2015</td>\n",
       "    </tr>\n",
       "    <tr>\n",
       "      <th>108</th>\n",
       "      <td>261023</td>\n",
       "      <td>1.483246</td>\n",
       "      <td>53000000</td>\n",
       "      <td>99775678</td>\n",
       "      <td>Black Mass</td>\n",
       "      <td>Johnny Depp|Joel Edgerton|Benedict Cumberbatch...</td>\n",
       "      <td>Scott Cooper</td>\n",
       "      <td>Crime|Drama</td>\n",
       "      <td>Infinitum Nihil|Head Gear Films|Cross Creek Pi...</td>\n",
       "      <td>6.3</td>\n",
       "      <td>4.875998e+07</td>\n",
       "      <td>9.179358e+07</td>\n",
       "      <td>2015</td>\n",
       "    </tr>\n",
       "  </tbody>\n",
       "</table>\n",
       "</div>"
      ],
      "text/plain": [
       "         id  popularity    budget   revenue  \\\n",
       "104  188222    1.532997  30000000  49263404   \n",
       "105  252838    1.510096  23000000  79799880   \n",
       "106  273477    1.499614  15000000  14860766   \n",
       "107  298312    1.495112   5000000  98450062   \n",
       "108  261023    1.483246  53000000  99775678   \n",
       "\n",
       "                            original_title  \\\n",
       "104                              Entourage   \n",
       "105                     The Wedding Ringer   \n",
       "106  Scouts Guide to the Zombie Apocalypse   \n",
       "107                              The Visit   \n",
       "108                             Black Mass   \n",
       "\n",
       "                                                  cast               director  \\\n",
       "104  Jeremy Piven|Adrian Grenier|Jerry Ferrara|Kevi...             Doug Ellin   \n",
       "105  Kevin Hart|Josh Gad|Kaley Cuoco|Affion Crocket...        Jeremy Garelick   \n",
       "106  Tye Sheridan|Logan Miller|Joey Morgan|Sarah Du...  Christopher B. Landon   \n",
       "107  Olivia DeJonge|Ed Oxenbould|Kathryn Hahn|Benja...     M. Night Shyamalan   \n",
       "108  Johnny Depp|Joel Edgerton|Benedict Cumberbatch...           Scott Cooper   \n",
       "\n",
       "              genres                               production_companies  \\\n",
       "104           Comedy       Warner Bros.|Closest to the Hole Productions   \n",
       "105           Comedy            Miramax Films|Screen Gems|LStar Capital   \n",
       "106    Comedy|Horror  Paramount Pictures|Oops Doughnuts Productions|...   \n",
       "107  Horror|Thriller       Blumhouse Productions|Blinding Edge Pictures   \n",
       "108      Crime|Drama  Infinitum Nihil|Head Gear Films|Cross Creek Pi...   \n",
       "\n",
       "     vote_average    budget_adj   revenue_adj  release_year  \n",
       "104           6.2  2.759999e+07  4.532231e+07          2015  \n",
       "105           6.5  2.115999e+07  7.341586e+07          2015  \n",
       "106           6.2  1.379999e+07  1.367190e+07          2015  \n",
       "107           5.9  4.599998e+06  9.057402e+07          2015  \n",
       "108           6.3  4.875998e+07  9.179358e+07          2015  "
      ]
     },
     "execution_count": 8,
     "metadata": {},
     "output_type": "execute_result"
    }
   ],
   "source": [
    "#查看整理后的数据\n",
    "movies_data.head()"
   ]
  },
  {
   "cell_type": "markdown",
   "metadata": {},
   "source": [
    "<a id='eda'></a>\n",
    "## 探索性数据分析\n",
    "\n",
    "> **提示**在你完成数据整理和清理之后，现在可以进行探索性数据分析了。你需要计算统计值，创建可视化图表，解决你在一开始的简介部分中提出的研究问题。我们推荐你采用系统化方法。一次只探索一个变量，然后探索变量之间的关系。\n",
    "\n",
    "### 研究问题 1（vote_average top 500的电影，最受欢迎的电影类型）"
   ]
  },
  {
   "cell_type": "code",
   "execution_count": 9,
   "metadata": {},
   "outputs": [
    {
     "data": {
      "text/plain": [
       "True"
      ]
     },
     "execution_count": 9,
     "metadata": {},
     "output_type": "execute_result"
    }
   ],
   "source": [
    "# 用这个代码框和其它代码框探索数据。请务必记得添加\n",
    "#   Markdown 框，以便记录你的观察和调查结果。\n",
    "movies_data_top500 = movies_data.sort_values(by='vote_average',ascending=False)[0:500]\n",
    "#验证获取是否获取了500行数据\n",
    "movies_data_top500.shape[0] == 500"
   ]
  },
  {
   "cell_type": "code",
   "execution_count": 10,
   "metadata": {},
   "outputs": [],
   "source": [
    "#将电影类型列拆分成多行，并统计评分前500的电影中，哪种类型的电影评分高\n",
    "movies_genres_top500 = movies_data_top500.loc[:,['genres']]"
   ]
  },
  {
   "cell_type": "code",
   "execution_count": 11,
   "metadata": {},
   "outputs": [
    {
     "data": {
      "text/plain": [
       "[('Drama', 264),\n",
       " ('Comedy', 122),\n",
       " ('Documentary', 107),\n",
       " ('Crime', 65),\n",
       " ('Animation', 60),\n",
       " ('Romance', 55),\n",
       " ('Thriller', 52),\n",
       " ('Music', 50),\n",
       " ('Action', 50),\n",
       " ('Family', 49),\n",
       " ('Adventure', 40),\n",
       " ('Fantasy', 27),\n",
       " ('Mystery', 25),\n",
       " ('Science Fiction', 24),\n",
       " ('History', 23),\n",
       " ('War', 19),\n",
       " ('Horror', 15),\n",
       " ('Foreign', 10),\n",
       " ('Western', 8),\n",
       " ('TV Movie', 7)]"
      ]
     },
     "execution_count": 11,
     "metadata": {},
     "output_type": "execute_result"
    }
   ],
   "source": [
    "#将genres按每一种类型拆分成多行\n",
    "movies_data_list = list(map(lambda x : x.split('|'),list(movies_genres_top500['genres'])))\n",
    "\n",
    "movies_data_dict = {}\n",
    "#统计每种电影类型的次数\n",
    "for item in movies_data_list:\n",
    "    if isinstance(item,list):\n",
    "        for i in item :\n",
    "            movies_data_dict[i] = movies_data_dict.get(i,0)+1\n",
    "    else:\n",
    "        movies_data_dict[item] = movies_data_dict.get(item,0)+1\n",
    "\n",
    "#按照次数进行排序\n",
    "sorted(movies_data_dict.items(),key=lambda x:x[1],reverse=True)\n"
   ]
  },
  {
   "cell_type": "code",
   "execution_count": 12,
   "metadata": {},
   "outputs": [],
   "source": [
    "#以电影类型和统计次数创建一个dataframe，用于后续可视化展示\n",
    "genres_dict = {'freq':list(movies_data_dict.values()),'genres':list(movies_data_dict.keys())}\n",
    "df_genres = pd.DataFrame(genres_dict)"
   ]
  },
  {
   "cell_type": "code",
   "execution_count": 13,
   "metadata": {},
   "outputs": [],
   "source": [
    "#按照类型次数排序\n",
    "df_genres.sort_values(by='freq',ascending=False,inplace=True)"
   ]
  },
  {
   "cell_type": "code",
   "execution_count": 14,
   "metadata": {},
   "outputs": [
    {
     "data": {
      "image/png": "[encoded data removed]",
      "text/plain": [
       "<Figure size 432x288 with 1 Axes>"
      ]
     },
     "metadata": {
      "needs_background": "light"
     },
     "output_type": "display_data"
    }
   ],
   "source": [
    "#可视化操作\n",
    "sns.barplot(x=\"freq\",y=\"genres\",data=df_genres)\n",
    "plt.title('The Favorite Genres')\n",
    "plt.show()"
   ]
  },
  {
   "cell_type": "markdown",
   "metadata": {},
   "source": [
    "##### 从图形可以看出Drama类型的电影，评分都很高"
   ]
  },
  {
   "cell_type": "markdown",
   "metadata": {},
   "source": [
    "### 研究问题 2（各主要特征间的关联性。）"
   ]
  },
  {
   "cell_type": "code",
   "execution_count": 15,
   "metadata": {},
   "outputs": [
    {
     "data": {
      "text/html": [
       "<div>\n",
       "<style scoped>\n",
       "    .dataframe tbody tr th:only-of-type {\n",
       "        vertical-align: middle;\n",
       "    }\n",
       "\n",
       "    .dataframe tbody tr th {\n",
       "        vertical-align: top;\n",
       "    }\n",
       "\n",
       "    .dataframe thead th {\n",
       "        text-align: right;\n",
       "    }\n",
       "</style>\n",
       "<table border=\"1\" class=\"dataframe\">\n",
       "  <thead>\n",
       "    <tr style=\"text-align: right;\">\n",
       "      <th></th>\n",
       "      <th>popularity</th>\n",
       "      <th>vote_average</th>\n",
       "      <th>revenue</th>\n",
       "      <th>revenue_adj</th>\n",
       "      <th>budget</th>\n",
       "    </tr>\n",
       "  </thead>\n",
       "  <tbody>\n",
       "    <tr>\n",
       "      <th>104</th>\n",
       "      <td>1.532997</td>\n",
       "      <td>6.2</td>\n",
       "      <td>49263404</td>\n",
       "      <td>4.532231e+07</td>\n",
       "      <td>30000000</td>\n",
       "    </tr>\n",
       "    <tr>\n",
       "      <th>105</th>\n",
       "      <td>1.510096</td>\n",
       "      <td>6.5</td>\n",
       "      <td>79799880</td>\n",
       "      <td>7.341586e+07</td>\n",
       "      <td>23000000</td>\n",
       "    </tr>\n",
       "    <tr>\n",
       "      <th>106</th>\n",
       "      <td>1.499614</td>\n",
       "      <td>6.2</td>\n",
       "      <td>14860766</td>\n",
       "      <td>1.367190e+07</td>\n",
       "      <td>15000000</td>\n",
       "    </tr>\n",
       "    <tr>\n",
       "      <th>107</th>\n",
       "      <td>1.495112</td>\n",
       "      <td>5.9</td>\n",
       "      <td>98450062</td>\n",
       "      <td>9.057402e+07</td>\n",
       "      <td>5000000</td>\n",
       "    </tr>\n",
       "    <tr>\n",
       "      <th>108</th>\n",
       "      <td>1.483246</td>\n",
       "      <td>6.3</td>\n",
       "      <td>99775678</td>\n",
       "      <td>9.179358e+07</td>\n",
       "      <td>53000000</td>\n",
       "    </tr>\n",
       "  </tbody>\n",
       "</table>\n",
       "</div>"
      ],
      "text/plain": [
       "     popularity  vote_average   revenue   revenue_adj    budget\n",
       "104    1.532997           6.2  49263404  4.532231e+07  30000000\n",
       "105    1.510096           6.5  79799880  7.341586e+07  23000000\n",
       "106    1.499614           6.2  14860766  1.367190e+07  15000000\n",
       "107    1.495112           5.9  98450062  9.057402e+07   5000000\n",
       "108    1.483246           6.3  99775678  9.179358e+07  53000000"
      ]
     },
     "execution_count": 15,
     "metadata": {},
     "output_type": "execute_result"
    }
   ],
   "source": [
    "# 请继续探索数据，解决你额外的研究问题。\n",
    "#   如果有其它问题要调查，\n",
    "#   请根据需要添加更多标题。\n",
    "movies_data.sort_values(by='popularity',ascending=False)\n",
    "movies_data_heap = movies_data.loc[:,['popularity','vote_average','revenue','revenue_adj','budget']]\n",
    "movies_data_heap.head()"
   ]
  },
  {
   "cell_type": "code",
   "execution_count": 16,
   "metadata": {},
   "outputs": [
    {
     "data": {
      "image/png": "[encoded data removed]",
      "text/plain": [
       "<Figure size 432x288 with 2 Axes>"
      ]
     },
     "metadata": {
      "needs_background": "light"
     },
     "output_type": "display_data"
    }
   ],
   "source": [
    "hitmapData = movies_data_heap.corr()\n",
    "sns.heatmap(data=hitmapData,cmap='RdYlGn_r', linewidths=0.5, annot=True)\n",
    "plt.show()"
   ]
  },
  {
   "cell_type": "markdown",
   "metadata": {},
   "source": [
    "##### 从上述heatmap可以看出popularity和revenue、 budget具有中等的相关性，与vote_average没有太大相关性"
   ]
  },
  {
   "cell_type": "markdown",
   "metadata": {},
   "source": [
    "<a id='conclusions'></a>\n",
    "## 结论\n",
    "\n",
    "> **提示**：最后，你需要总结自己的调查结果。请确保你了解在探索过程中的局限性。如果尚未进行任何统计检验，不要做出任何统计结论。切记不要根据相关关系贸然推导出因果关系！\n",
    "\n",
    "> **提示**：如果你对自己的研究成果感到满意，应将其副本保存为 HTML 或 PDF 形式。在导出报告之前请检查一遍，确保报告结构完整，信息连贯。应删除所有类似的“提示”引用段，以保持报告中的简洁度。在提交之前，你还需要查看在课程结尾的项目提交页面中的项目审阅规范。\n",
    "\n",
    "> 如需将报告导出到工作区，你可以运行下面的代码框。如果正确，会返回代码 0，工作区目录下会生成 .html 文件（单击左上角的 jupyter 图标）。也可以通过 **文件** > **下载为** 子菜单下载 html 报告，然后手动上传到工作区目录。完成之后，可以单击右下角的“提交项目”，来提交你的项目。恭喜你！"
   ]
  },
  {
   "cell_type": "code",
   "execution_count": 17,
   "metadata": {},
   "outputs": [
    {
     "data": {
      "text/plain": [
       "255"
      ]
     },
     "execution_count": 17,
     "metadata": {},
     "output_type": "execute_result"
    }
   ],
   "source": [
    "from subprocess import call\n",
    "call(['python', '-m', 'nbconvert', 'Investigate_a_Dataset.ipynb'])"
   ]
  }
 ],
 "metadata": {
  "kernelspec": {
   "display_name": "Python 3",
   "language": "python",
   "name": "python3"
  },
  "language_info": {
   "codemirror_mode": {
    "name": "ipython",
    "version": 3
   },
   "file_extension": ".py",
   "mimetype": "text/x-python",
   "name": "python",
   "nbconvert_exporter": "python",
   "pygments_lexer": "ipython3",
   "version": "3.7.1"
  }
 },
 "nbformat": 4,
 "nbformat_minor": 2
}
