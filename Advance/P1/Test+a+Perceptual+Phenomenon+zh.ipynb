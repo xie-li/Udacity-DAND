{
 "cells": [
  {
   "cell_type": "markdown",
   "metadata": {},
   "source": [
    "### 统计学：检验心理学现象\n",
    "\n",
    "在下方单元格中回答问题并执行相关代码，你可以 [参考项目指导](https://github.com/udacity/new-dand-advanced-china/blob/master/%E6%A3%80%E9%AA%8C%E5%BF%83%E7%90%86%E5%AD%A6%E7%8E%B0%E8%B1%A1/%E7%BB%9F%E8%AE%A1%E5%AD%A6%EF%BC%9A%E6%A3%80%E9%AA%8C%E5%BF%83%E7%90%86%E5%AD%A6%E7%8E%B0%E8%B1%A1.md) 并在正式提交前查看 [项目要求](https://review.udacity.com/#!/rubrics/305/view)。提交时请将 Jupyter notebook 导出成 HTML 或者 PDF 进行提交（File -> Download As）。\n",
    "\n",
    "背景信息\n",
    "\n",
    "在一个Stroop （斯特鲁普）任务中，参与者得到了一列文字，每个文字都用一种油墨颜色展示。参与者的任务是将文字的打印颜色大声说出来。这项任务有两个条件：一致文字条件，和不一致文字条件。在一致文字条件中，显示的文字是与它们的打印颜色匹配的颜色词，如“红色”、“蓝色”。在不一致文字条件中，显示的文字是与它们的打印颜色不匹配的颜色词，如“紫色”、“橙色”。在每个情况中，我们将计量说出同等大小的列表中的墨色名称的时间。每位参与者必须全部完成并记录每种条件下使用的时间。\n",
    "\n",
    "调查问题\n",
    "\n",
    "作为一般说明，请确保记录你在创建项目时使用或参考的任何资源。作为项目提交的一部分，你将需要报告信息来源。\n",
    "\n",
    "(1) 我们的自变量是什么？因变量是什么？"
   ]
  },
  {
   "cell_type": "markdown",
   "metadata": {},
   "source": [
    "**该项目主要是研究在不同的条件下说出同等大小的列表中墨色名称的时间，所以因变量就是读出墨色名称的时间**  \n",
    "**自变量就是不同条件下的各种情况，即文字与油墨颜色是否一致**"
   ]
  },
  {
   "cell_type": "markdown",
   "metadata": {},
   "source": [
    "(2) 此任务的适当假设集是什么？你需要以文字和数学符号方式对假设集中的零假设和对立假设加以说明，并对数学符号进行定义。你想执行什么类型的统计检验？为你的选择提供正当理由（比如，为何该实验满足你所选统计检验的前置条件）。"
   ]
  },
  {
   "cell_type": "markdown",
   "metadata": {},
   "source": [
    "**假设检验问题：在相同大小的列表中，文字与墨色名称是否相同对参与者全部说出打印颜色耗时是否有差异性** \n",
    "\n",
    "**指定假设集：**\n",
    "1. 墨色与文字相同，说出墨色名称所消耗平均时间的总体均值，记为$miu_{equal}$  \n",
    "2. 墨色与文字不同，说出墨色名称所消耗平均时间的总体均值，记为$miu_{diff}$  \n",
    "\n",
    "\n",
    "**null hypothesis:不一致文字条件下不会影响参与者说出打印颜色耗时**  \n",
    "$H_0$ : $miu_{equal} = miu_{diff}$ \n",
    "\n",
    "**alternavite hypothesis:不一致文字条件下会影响参与者说出打印颜色耗时**\n",
    "\n",
    "$H_1$ : $miu_{equal} \\neq miu_{diff}$\n",
    "\n",
    "**因为此次选择样本数量为24（少于30），且进行的是同一样本数据不同条件的比对，它们是相关样本，所以选择配对t检验，备选假设中为不等于，需要找出参数的变化，所以选择双尾检验**"
   ]
  },
  {
   "cell_type": "markdown",
   "metadata": {},
   "source": [
    "现在轮到你自行尝试 Stroop 任务了。前往此链接，其中包含一个基于 Java 的小程序，专门用于执行 Stroop 任务。记录你收到的任务时间（你无需将时间提交到网站）。现在下载此数据集，其中包含一些任务参与者的结果。数据集的每行包含一名参与者的表现，第一个数字代表他们的一致任务结果，第二个数字代表不一致任务结果。\n",
    "\n",
    "(3) 报告关于此数据集的一些描述性统计。包含至少一个集中趋势测量和至少一个变异测量。"
   ]
  },
  {
   "cell_type": "markdown",
   "metadata": {},
   "source": [
    "**数据的描述统计信息**  \n",
    "\n",
    " center | congruent | incongruent\n",
    "---|---|---\n",
    "mean | 14.05 | 22.02\n",
    "median | 14.36 | 21.018\n",
    "\n",
    "spread | congruent | incongruent\n",
    "---|---|---\n",
    "std | 3.48 | 4.70\n",
    "range | 13.70 | 19.57\n",
    "IQR | 4.30 | 5.33\n"
   ]
  },
  {
   "cell_type": "code",
   "execution_count": 62,
   "metadata": {},
   "outputs": [
    {
     "name": "stdout",
     "output_type": "stream",
     "text": [
      "导入完成\n"
     ]
    }
   ],
   "source": [
    "# 在这里执行你的分析\n",
    "# 数据集载入及清理功能包\n",
    "import pandas as pd\n",
    "\n",
    "# 数据集转换及数学统计处理的常用功能包\n",
    "import numpy as np\n",
    "from scipy import stats\n",
    "# 数据集可视化常用功能包\n",
    "import matplotlib.pyplot as plt\n",
    "plt.rcParams['font.sans-serif'] = ['simhei']  # 设置加载的字体名\n",
    "plt.rcParams['axes.unicode_minus'] = False\n",
    "print(\"导入完成\")"
   ]
  },
  {
   "cell_type": "code",
   "execution_count": 63,
   "metadata": {},
   "outputs": [
    {
     "name": "stdout",
     "output_type": "stream",
     "text": [
      "    Congruent  Incongruent\n",
      "9      14.480       26.282\n",
      "12     15.073       17.510\n",
      "17     10.639       20.429\n",
      "----------------------------------------\n",
      "       Congruent  Incongruent\n",
      "count  24.000000    24.000000\n",
      "mean   14.051125    22.015917\n",
      "std     3.559358     4.797057\n",
      "min     8.630000    15.687000\n",
      "25%    11.895250    18.716750\n",
      "50%    14.356500    21.017500\n",
      "75%    16.200750    24.051500\n",
      "max    22.328000    35.255000\n",
      "----------------------------------------\n",
      "<class 'pandas.core.frame.DataFrame'>\n",
      "RangeIndex: 24 entries, 0 to 23\n",
      "Data columns (total 2 columns):\n",
      "Congruent      24 non-null float64\n",
      "Incongruent    24 non-null float64\n",
      "dtypes: float64(2)\n",
      "memory usage: 464.0 bytes\n",
      "None\n",
      "----------------------------------------\n"
     ]
    }
   ],
   "source": [
    "#读取数据集\n",
    "df = pd.read_csv('stroopdata.csv')\n",
    "print(df.sample(3))\n",
    "print('-'*40)\n",
    "print(df.describe())\n",
    "print('-'*40)\n",
    "print(df.info())\n",
    "print('-'*40)"
   ]
  },
  {
   "cell_type": "markdown",
   "metadata": {},
   "source": [
    "(4) 提供显示样本数据分布的一个或两个可视化。用一两句话说明你从图中观察到的结果。"
   ]
  },
  {
   "cell_type": "code",
   "execution_count": 22,
   "metadata": {},
   "outputs": [
    {
     "data": {
      "image/png": "[encoded data removed]",
      "text/plain": [
       "<Figure size 432x288 with 1 Axes>"
      ]
     },
     "metadata": {
      "needs_background": "light"
     },
     "output_type": "display_data"
    }
   ],
   "source": [
    "# 在这里创建可视化图表\n",
    "ind = np.arange(len(df)) # the x locations for the groups\n",
    "width = 0.35  # the width of the bars\n",
    "fig, ax = plt.subplots()\n",
    "rects1 = ax.bar(ind - width/2, df.Congruent, width,color='SkyBlue', label='Congruent')\n",
    "rects2 = ax.bar(ind + width/2, df.Incongruent, width,color='IndianRed', label='Incongruent')\n",
    "# Add some text for labels, title and custom x-axis tick labels, etc.\n",
    "ax.set_ylabel('时间(s)')\n",
    "ax.set_title('读一致文字条件和不一致文字条件耗时')\n",
    "ax.set_xticks(ind)\n",
    "ax.set_xticklabels(df.index+1)\n",
    "ax.legend();"
   ]
  },
  {
   "cell_type": "markdown",
   "metadata": {},
   "source": [
    "**通过图中数据可以看出相同大小情况下，读取不一致文字条件耗时比读取一致文字条件耗时长**"
   ]
  },
  {
   "cell_type": "markdown",
   "metadata": {},
   "source": [
    "(5) 现在，执行统计测试并报告你的结果。你的置信水平和关键统计值是多少？你是否成功拒绝零假设？对试验任务得出一个结论。结果是否与你的期望一致？"
   ]
  },
  {
   "cell_type": "markdown",
   "metadata": {},
   "source": [
    "参考：http://www.statstutor.ac.uk/resources/uploaded/paired-t-test.pdf\n",
    "1. Calculate the difference (di = yi − xi) between the two observations on each pair,\n",
    "making sure you distinguish between positive and negative differences.\n",
    "2. Calculate the mean difference, ¯d.\n",
    "3. Calculate the standard deviation of the differences, sd, and use this to calculate the\n",
    "standard error of the mean difference, SE(\n",
    "¯d) = √\n",
    "sd\n",
    "n\n",
    "4. Calculate the t-statistic, which is given by T =\n",
    "¯d\n",
    "SE(\n",
    "¯d)\n",
    ". Under the null hypothesis,\n",
    "this statistic follows a t-distribution with n − 1 degrees of freedom.\n",
    "5. Use tables of the t-distribution to compare your value for T to the tn−1 distribution.\n",
    "This will give the p-value for the paired t-test."
   ]
  },
  {
   "cell_type": "code",
   "execution_count": 71,
   "metadata": {},
   "outputs": [
    {
     "name": "stdout",
     "output_type": "stream",
     "text": [
      "Congruent与Incongruent均值偏差:-7.96\n",
      "sstd=4.86,se=0.99\n"
     ]
    },
    {
     "data": {
      "text/plain": [
       "-8.020706944109955"
      ]
     },
     "execution_count": 71,
     "metadata": {},
     "output_type": "execute_result"
    }
   ],
   "source": [
    "# 在这里执行统计检验\n",
    "#均值偏差\n",
    "diff_mean = df.Congruent.mean() - df.Incongruent.mean()\n",
    "print('Congruent与Incongruent均值偏差:{0:.2f}'.format(diff_mean))\n",
    "n = len(df)\n",
    "#标准偏差 因为n<30，所以Degrees of Freedom需要减1\n",
    "sstd = np.std(df.Congruent-df.Incongruent,ddof=1)\n",
    "se = sstd/np.sqrt(n)\n",
    "print('sstd={:.2f},se={:.2f}'.format(sstd,se))\n",
    "t = diff_mean/se\n",
    "t"
   ]
  },
  {
   "cell_type": "markdown",
   "metadata": {},
   "source": [
    "Confidence interval  \n",
    "d ± t\n",
    "∗\n",
    "sd\n",
    "√\n",
    "n\n",
    "or, equivalently ¯d ± (t\n",
    "∗ × SE(\n",
    "¯d))"
   ]
  },
  {
   "cell_type": "code",
   "execution_count": 69,
   "metadata": {},
   "outputs": [
    {
     "data": {
      "text/plain": [
       "(-6.935811628938246, -8.993771704395083)"
      ]
     },
     "execution_count": 69,
     "metadata": {},
     "output_type": "execute_result"
    }
   ],
   "source": [
    "t2 = sstd/np.sqrt(n-1)\n",
    "(diff_mean + t2*se,diff_mean - t2*se)"
   ]
  },
  {
   "cell_type": "code",
   "execution_count": 70,
   "metadata": {},
   "outputs": [
    {
     "data": {
      "text/plain": [
       "Ttest_relResult(statistic=-8.020706944109957, pvalue=4.103000585711178e-08)"
      ]
     },
     "execution_count": 70,
     "metadata": {},
     "output_type": "execute_result"
    }
   ],
   "source": [
    "#参考：https://docs.scipy.org/doc/scipy-0.19.1/reference/generated/scipy.stats.ttest_rel.html\n",
    "#使用stats的配对样本t检验计算p-value\n",
    "stats.ttest_rel(df.Congruent,df.Incongruent,axis=0)"
   ]
  },
  {
   "cell_type": "markdown",
   "metadata": {},
   "source": [
    "**p-value=4.10e-08 远小于 0.05，所以拒绝原假设，读相同大小下，不一致文字条件具有统计显著性，即显示的文字与它们的打印颜色不匹配时对实验者的阅读时间会产生影响。**"
   ]
  }
 ],
 "metadata": {
  "anaconda-cloud": {},
  "kernelspec": {
   "display_name": "Python 3",
   "language": "python",
   "name": "python3"
  },
  "language_info": {
   "codemirror_mode": {
    "name": "ipython",
    "version": 3
   },
   "file_extension": ".py",
   "mimetype": "text/x-python",
   "name": "python",
   "nbconvert_exporter": "python",
   "pygments_lexer": "ipython3",
   "version": "3.7.1"
  }
 },
 "nbformat": 4,
 "nbformat_minor": 2
}
