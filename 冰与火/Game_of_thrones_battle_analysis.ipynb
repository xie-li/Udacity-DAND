{
 "cells": [
  {
   "cell_type": "markdown",
   "metadata": {},
   "source": [
    "# 五王之战分析 - 冰与火之歌"
   ]
  },
  {
   "cell_type": "markdown",
   "metadata": {},
   "source": [
    "## 简介\n",
    "\n",
    "五王之战（War of the Five Kings）是著名严肃奇幻小说《冰与火之歌》中的著名内战。这是一场规模空前、波及七大王国的内乱。顾名思义，前后共有五人在战争中称王：乔佛里、史坦尼斯、蓝礼均声称自己是铁王座的合法继承人。除此之外，罗柏·史塔克被北境众封臣推选为北境之王，巴隆·葛雷乔伊亦再度掀起独立大旗，欲摆脱铁王座的统治，自称为铁群岛之王。\n",
    "\n"
   ]
  },
  {
   "cell_type": "markdown",
   "metadata": {},
   "source": [
    "本数据集(battles.csv)包含了五王之战期间的战争，它是所有战斗的大集合。该数据是Kaggle中[Game of Thrones](https://www.kaggle.com/mylesoneill/game-of-thrones)的一部分。\n",
    "\n",
    "数据中的变量含义解释：\n",
    "```\n",
    "name: 战争的名称，字符变量。\n",
    "year: 战争发生的年份，数值变量。\n",
    "battle_number: 本数据中的unique id，对应每一场独立的战役，数值变量。\n",
    "attacker_king: 攻击方的国王，\"/\"表示了国王的更换。例如：\"Joffrey/Tommen Baratheon\"意味着Tomen Baratheon继承了Joffrey的王位，分类变量。\n",
    "defender_king: 防守方的国王，分类变量。\n",
    "attacker_1: 攻击方将领，字符变量。\n",
    "attacker_2: 攻击方将领，字符变量。\n",
    "attacker_3: 攻击方将领，字符变量。\n",
    "attacker_4: 攻击方将领，字符变量。\n",
    "defender_1: 防守方将领，字符变量。\n",
    "defender_2: 防守方将领，字符变量。\n",
    "defender_3: 防守方将领，字符变量。\n",
    "defender_4: 防守方将领，字符变量。\n",
    "attacker_outcome: 从攻击方角度来看的战争结果，分别有：win, loss, draw，分类变量。\n",
    "battle_type: 战争的类别。pitched_battle: 双方军队在一个地点相遇并战斗，这也是最基本的战争类别；ambush: 以隐身或诡计为主要攻击手段的战争；siege: 阵地战；razing: 对未设防位置的攻击。分类变量。\n",
    "major_death: 是否有重要人物的死亡，二进制变量。\n",
    "major_capture: 是否有重要人物的被捕，二进制变量。\n",
    "attacker_size: 攻击方力量的大小，并未对骑兵、步兵等士兵种类有所区分，数值变量。\n",
    "defender_size: 防守方力量的大小，并未对骑兵、步兵等士兵种类有所区分，数值变量。\n",
    "attacker_commander: 攻击方的主要指挥官。指挥官的名字中并没有包含头衔，不同的指挥官名字用逗号隔开，字符变量。\n",
    "defender_commander: 防守方的主要指挥官。指挥官的名字中并没有包含头衔，不同的指挥官名字用逗号隔开，字符变量。\n",
    "summer: 战争是否发生于夏天，二进制变量。\n",
    "location: 战争发生的地点，字符变量。\n",
    "region: 战争发生的地域，包括：Beyond the Wall, The North, The Iron Islands, The Riverlands, The Vale of Arryn, The Westerlands, The Crownlands, The Reach, The Stormlands, Dorne，分类变量。\n",
    "note: 注释，字符变量。\n",
    "\n",
    "```"
   ]
  },
  {
   "cell_type": "markdown",
   "metadata": {},
   "source": [
    "## 项目完成指南\n",
    "\n",
    "\n",
    "\n",
    "本项目中的数据分析流程已经给出，但代码将完全由你自己进行书写，如果你无法完成本项目，说明你目前的能力并不足以完成 数据分析(进阶)纳米学位，建议先进行 数据分析（入门）纳米学位的学习，掌握进阶课程的先修知识。\n",
    "\n",
    "对于数据分析过程的记录也是数据分析报告的一个重要部分，你可以自己在需要的位置插入Markdown cell，记录你在数据分析中的关键步骤和推理过程。比如：数据有什么样的特点，统计数据的含义是什么，你从可视化中可以得出什么结论，下一步分析是什么，为什么执行这种分析。如果你无法做到这一点，你也无法通过本项目。\n",
    "\n",
    "\n",
    "> **小贴士**: 像这样的引用部分旨在为学员提供实用指导，帮助学员了解并使用 Jupyter notebook"
   ]
  },
  {
   "cell_type": "markdown",
   "metadata": {},
   "source": [
    "## 提出问题\n",
    "\n",
    "在此项目中，你将以一名数据分析师的身份执行数据的探索性分析。你将了解数据分析过程的基本流程。在你分析数据之前，请先思考几个你需要理解的关于这些战斗的问题，例如，哪一个区域发生了最多的战争？哪一个国王获得了最多的胜利？战争的胜利与否受那些关键因素的影响？\n",
    "\n",
    "**问题**：请写下你感兴趣的问题，请确保这些问题能够由现有的数据进行回答。\n",
    "（为了确保学习的效果，请确保你的数据分析报告中能够包含2幅可视化和1个相关性分析。）\n",
    "\n",
    "**答案**：哪一个区域发生了最多的战争？哪种类型的战争胜率高？\n",
    "\n",
    "\n",
    "在提出了问题之后，我们将开始导入数据，并对数据进行探索性分析，来回答上面提出的问题。\n",
    "\n",
    "> **小贴士**: 双击上框，文本就会发生变化，所有格式都会被清除，以便你编辑该文本块。该文本块是用 [Markdown](http://daringfireball.net/projects/markdown/syntax)编写的，该语言使用纯文本语法，能用页眉、链接、斜体等来规范文本格式。在纳米学位课程中，你也会用到 Markdown。编辑后，可使用 **Shift** + **Enter** 或 **Shift** + **Return** 运行上该框，使其呈现出编辑好的文本格式。"
   ]
  },
  {
   "cell_type": "markdown",
   "metadata": {},
   "source": [
    "## 数据评估和清理"
   ]
  },
  {
   "cell_type": "markdown",
   "metadata": {},
   "source": [
    "> **小贴士**: 运行代码框的方法与编辑上方的 Markdown 框的格式类似，你只需点击代码框，按下键盘快捷键 **Shift** + **Enter** 或 **Shift** + **Return** ，或者你也可先选择代码框，然后点击工具栏的 **运行** 按钮来运行代码。运行代码框时，相应单元左侧的信息会出现星号，即 `In [*]:`，若代码执行完毕，星号则会变为某个数字，如 `In [1]`。如果代码运行后有输出结果，输出将会以 `Out [1]:` 的形式出现，其中的数字将与 \"In\" 中的数字相对应。"
   ]
  },
  {
   "cell_type": "code",
   "execution_count": 1,
   "metadata": {},
   "outputs": [],
   "source": [
    "# 请先运行此代码块，以确保在可视化中可以显示中文\n",
    "#!rm -rf ~/.cache/matplotlib/fontList.json\n",
    "#!wget http://d.xiazaiziti.com/en_fonts/fonts/s/SimHei.ttf -O /opt/conda/lib/python3.6/site-packages/matplotlib/mpl-data/fonts/ttf/SimHei.ttf\n",
    "import matplotlib.pyplot as plt \n",
    "import seaborn as sns\n",
    "\n",
    "plt.rcParams['font.sans-serif']=['SimHei'] #用来正常显示中文标签\n",
    "plt.rcParams['axes.unicode_minus']=False #用来正常显示负号"
   ]
  },
  {
   "cell_type": "code",
   "execution_count": 2,
   "metadata": {
    "scrolled": true
   },
   "outputs": [
    {
     "name": "stdout",
     "output_type": "stream",
     "text": [
      "导入完成\n"
     ]
    }
   ],
   "source": [
    "# TO DO: load pacakges\n",
    "import pandas as pd\n",
    "print('导入完成')"
   ]
  },
  {
   "cell_type": "code",
   "execution_count": 3,
   "metadata": {},
   "outputs": [],
   "source": [
    "# TO DO: load the dataset\n",
    "df = pd.read_csv('battles.csv')"
   ]
  },
  {
   "cell_type": "code",
   "execution_count": 4,
   "metadata": {},
   "outputs": [
    {
     "name": "stdout",
     "output_type": "stream",
     "text": [
      "<class 'pandas.core.frame.DataFrame'>\n",
      "RangeIndex: 38 entries, 0 to 37\n",
      "Data columns (total 25 columns):\n",
      "name                  38 non-null object\n",
      "year                  38 non-null int64\n",
      "battle_number         38 non-null int64\n",
      "attacker_king         36 non-null object\n",
      "defender_king         35 non-null object\n",
      "attacker_1            38 non-null object\n",
      "attacker_2            10 non-null object\n",
      "attacker_3            3 non-null object\n",
      "attacker_4            2 non-null object\n",
      "defender_1            37 non-null object\n",
      "defender_2            2 non-null object\n",
      "defender_3            0 non-null float64\n",
      "defender_4            0 non-null float64\n",
      "attacker_outcome      37 non-null object\n",
      "battle_type           37 non-null object\n",
      "major_death           37 non-null float64\n",
      "major_capture         37 non-null float64\n",
      "attacker_size         24 non-null float64\n",
      "defender_size         19 non-null float64\n",
      "attacker_commander    37 non-null object\n",
      "defender_commander    28 non-null object\n",
      "summer                37 non-null float64\n",
      "location              37 non-null object\n",
      "region                38 non-null object\n",
      "note                  5 non-null object\n",
      "dtypes: float64(7), int64(2), object(16)\n",
      "memory usage: 7.5+ KB\n"
     ]
    }
   ],
   "source": [
    "# TO DO: check the dataset general info\n",
    "df.info()"
   ]
  },
  {
   "cell_type": "code",
   "execution_count": 5,
   "metadata": {},
   "outputs": [],
   "source": [
    "#通过上述观察，发现defender_3和defender_4两列的值都为null，可以删除\n",
    "df.drop(['defender_3','defender_4'],axis=1,inplace=True)"
   ]
  },
  {
   "cell_type": "code",
   "execution_count": 6,
   "metadata": {},
   "outputs": [
    {
     "data": {
      "text/plain": [
       "name                   0\n",
       "year                   0\n",
       "battle_number          0\n",
       "attacker_king          2\n",
       "defender_king          3\n",
       "attacker_1             0\n",
       "attacker_2            28\n",
       "attacker_3            35\n",
       "attacker_4            36\n",
       "defender_1             1\n",
       "defender_2            36\n",
       "attacker_outcome       1\n",
       "battle_type            1\n",
       "major_death            1\n",
       "major_capture          1\n",
       "attacker_size         14\n",
       "defender_size         19\n",
       "attacker_commander     1\n",
       "defender_commander    10\n",
       "summer                 1\n",
       "location               1\n",
       "region                 0\n",
       "note                  33\n",
       "dtype: int64"
      ]
     },
     "execution_count": 6,
     "metadata": {},
     "output_type": "execute_result"
    }
   ],
   "source": [
    "#检查各列缺失值大概数量\n",
    "df.isnull().sum()"
   ]
  },
  {
   "cell_type": "code",
   "execution_count": 7,
   "metadata": {},
   "outputs": [],
   "source": [
    "#summer major_death major_capture 字段转换为bool类型\n",
    "is_true = {1.0:True,0.0:False}\n",
    "df['summer'].replace(is_true,inplace=True)\n",
    "df['major_death'].replace(is_true,inplace=True)\n",
    "df['major_capture'].replace(is_true,inplace=True)"
   ]
  },
  {
   "cell_type": "code",
   "execution_count": 8,
   "metadata": {},
   "outputs": [
    {
     "data": {
      "text/html": [
       "<div>\n",
       "<style scoped>\n",
       "    .dataframe tbody tr th:only-of-type {\n",
       "        vertical-align: middle;\n",
       "    }\n",
       "\n",
       "    .dataframe tbody tr th {\n",
       "        vertical-align: top;\n",
       "    }\n",
       "\n",
       "    .dataframe thead th {\n",
       "        text-align: right;\n",
       "    }\n",
       "</style>\n",
       "<table border=\"1\" class=\"dataframe\">\n",
       "  <thead>\n",
       "    <tr style=\"text-align: right;\">\n",
       "      <th></th>\n",
       "      <th>name</th>\n",
       "      <th>year</th>\n",
       "      <th>battle_number</th>\n",
       "      <th>attacker_king</th>\n",
       "      <th>defender_king</th>\n",
       "      <th>attacker_1</th>\n",
       "      <th>attacker_2</th>\n",
       "      <th>attacker_3</th>\n",
       "      <th>attacker_4</th>\n",
       "      <th>defender_1</th>\n",
       "      <th>defender_2</th>\n",
       "      <th>attacker_outcome</th>\n",
       "      <th>battle_type</th>\n",
       "      <th>major_death</th>\n",
       "      <th>major_capture</th>\n",
       "      <th>attacker_size</th>\n",
       "      <th>defender_size</th>\n",
       "      <th>attacker_commander</th>\n",
       "      <th>defender_commander</th>\n",
       "      <th>summer</th>\n",
       "      <th>location</th>\n",
       "      <th>region</th>\n",
       "      <th>note</th>\n",
       "    </tr>\n",
       "  </thead>\n",
       "  <tbody>\n",
       "    <tr>\n",
       "      <th>8</th>\n",
       "      <td>Battle of Deepwood Motte</td>\n",
       "      <td>299</td>\n",
       "      <td>9</td>\n",
       "      <td>Balon/Euron Greyjoy</td>\n",
       "      <td>Robb Stark</td>\n",
       "      <td>Greyjoy</td>\n",
       "      <td>NaN</td>\n",
       "      <td>NaN</td>\n",
       "      <td>NaN</td>\n",
       "      <td>Stark</td>\n",
       "      <td>NaN</td>\n",
       "      <td>win</td>\n",
       "      <td>siege</td>\n",
       "      <td>False</td>\n",
       "      <td>False</td>\n",
       "      <td>1000.0</td>\n",
       "      <td>NaN</td>\n",
       "      <td>Asha Greyjoy</td>\n",
       "      <td>NaN</td>\n",
       "      <td>True</td>\n",
       "      <td>Deepwood Motte</td>\n",
       "      <td>The North</td>\n",
       "      <td>NaN</td>\n",
       "    </tr>\n",
       "  </tbody>\n",
       "</table>\n",
       "</div>"
      ],
      "text/plain": [
       "                       name  year  battle_number        attacker_king  \\\n",
       "8  Battle of Deepwood Motte   299              9  Balon/Euron Greyjoy   \n",
       "\n",
       "  defender_king attacker_1 attacker_2 attacker_3 attacker_4 defender_1  \\\n",
       "8    Robb Stark    Greyjoy        NaN        NaN        NaN      Stark   \n",
       "\n",
       "  defender_2 attacker_outcome battle_type major_death major_capture  \\\n",
       "8        NaN              win       siege       False         False   \n",
       "\n",
       "   attacker_size  defender_size attacker_commander defender_commander summer  \\\n",
       "8         1000.0            NaN       Asha Greyjoy                NaN   True   \n",
       "\n",
       "         location     region note  \n",
       "8  Deepwood Motte  The North  NaN  "
      ]
     },
     "execution_count": 8,
     "metadata": {},
     "output_type": "execute_result"
    }
   ],
   "source": [
    "pd.options.display.max_columns = 100\n",
    "df.sample(1)"
   ]
  },
  {
   "cell_type": "code",
   "execution_count": 10,
   "metadata": {},
   "outputs": [
    {
     "data": {
      "text/plain": [
       "(38, 23)"
      ]
     },
     "execution_count": 10,
     "metadata": {},
     "output_type": "execute_result"
    }
   ],
   "source": [
    "df.shape"
   ]
  },
  {
   "cell_type": "code",
   "execution_count": 11,
   "metadata": {},
   "outputs": [],
   "source": [
    "#定义画散点图方法\n",
    "def boxplot(label_y,df):\n",
    "    sns.boxplot(y=label_y, data=df,\n",
    "            linewidth = 2,   # 线宽\n",
    "            width = 0.8,     # 箱之间的间隔比例\n",
    "            fliersize = 3,   # 异常点大小\n",
    "            palette = 'hls', # 设置调色板\n",
    "            whis = 1.5,      # 设置IQR \n",
    "            notch = True,    # 设置是否以中值做凹槽\n",
    "           )"
   ]
  },
  {
   "cell_type": "code",
   "execution_count": 12,
   "metadata": {},
   "outputs": [
    {
     "data": {
      "text/html": [
       "<div>\n",
       "<style scoped>\n",
       "    .dataframe tbody tr th:only-of-type {\n",
       "        vertical-align: middle;\n",
       "    }\n",
       "\n",
       "    .dataframe tbody tr th {\n",
       "        vertical-align: top;\n",
       "    }\n",
       "\n",
       "    .dataframe thead th {\n",
       "        text-align: right;\n",
       "    }\n",
       "</style>\n",
       "<table border=\"1\" class=\"dataframe\">\n",
       "  <thead>\n",
       "    <tr style=\"text-align: right;\">\n",
       "      <th></th>\n",
       "      <th>year</th>\n",
       "      <th>battle_number</th>\n",
       "      <th>attacker_size</th>\n",
       "      <th>defender_size</th>\n",
       "    </tr>\n",
       "  </thead>\n",
       "  <tbody>\n",
       "    <tr>\n",
       "      <th>count</th>\n",
       "      <td>38.000000</td>\n",
       "      <td>38.000000</td>\n",
       "      <td>24.000000</td>\n",
       "      <td>19.000000</td>\n",
       "    </tr>\n",
       "    <tr>\n",
       "      <th>mean</th>\n",
       "      <td>299.105263</td>\n",
       "      <td>19.500000</td>\n",
       "      <td>9942.541667</td>\n",
       "      <td>6428.157895</td>\n",
       "    </tr>\n",
       "    <tr>\n",
       "      <th>std</th>\n",
       "      <td>0.689280</td>\n",
       "      <td>11.113055</td>\n",
       "      <td>20283.092065</td>\n",
       "      <td>6225.182106</td>\n",
       "    </tr>\n",
       "    <tr>\n",
       "      <th>min</th>\n",
       "      <td>298.000000</td>\n",
       "      <td>1.000000</td>\n",
       "      <td>20.000000</td>\n",
       "      <td>100.000000</td>\n",
       "    </tr>\n",
       "    <tr>\n",
       "      <th>25%</th>\n",
       "      <td>299.000000</td>\n",
       "      <td>10.250000</td>\n",
       "      <td>1375.000000</td>\n",
       "      <td>1070.000000</td>\n",
       "    </tr>\n",
       "    <tr>\n",
       "      <th>50%</th>\n",
       "      <td>299.000000</td>\n",
       "      <td>19.500000</td>\n",
       "      <td>4000.000000</td>\n",
       "      <td>6000.000000</td>\n",
       "    </tr>\n",
       "    <tr>\n",
       "      <th>75%</th>\n",
       "      <td>300.000000</td>\n",
       "      <td>28.750000</td>\n",
       "      <td>8250.000000</td>\n",
       "      <td>10000.000000</td>\n",
       "    </tr>\n",
       "    <tr>\n",
       "      <th>max</th>\n",
       "      <td>300.000000</td>\n",
       "      <td>38.000000</td>\n",
       "      <td>100000.000000</td>\n",
       "      <td>20000.000000</td>\n",
       "    </tr>\n",
       "  </tbody>\n",
       "</table>\n",
       "</div>"
      ],
      "text/plain": [
       "             year  battle_number  attacker_size  defender_size\n",
       "count   38.000000      38.000000      24.000000      19.000000\n",
       "mean   299.105263      19.500000    9942.541667    6428.157895\n",
       "std      0.689280      11.113055   20283.092065    6225.182106\n",
       "min    298.000000       1.000000      20.000000     100.000000\n",
       "25%    299.000000      10.250000    1375.000000    1070.000000\n",
       "50%    299.000000      19.500000    4000.000000    6000.000000\n",
       "75%    300.000000      28.750000    8250.000000   10000.000000\n",
       "max    300.000000      38.000000  100000.000000   20000.000000"
      ]
     },
     "execution_count": 12,
     "metadata": {},
     "output_type": "execute_result"
    }
   ],
   "source": [
    "df.describe()"
   ]
  },
  {
   "cell_type": "code",
   "execution_count": 13,
   "metadata": {},
   "outputs": [
    {
     "data": {
      "image/png": "[encoded data removed]",
      "text/plain": [
       "<Figure size 432x288 with 1 Axes>"
      ]
     },
     "metadata": {
      "needs_background": "light"
     },
     "output_type": "display_data"
    }
   ],
   "source": [
    "#查看异常值，通过描述可以看出attacker_size存在异常值\n",
    "boxplot(\"attacker_size\",df[['attacker_size']])"
   ]
  },
  {
   "cell_type": "markdown",
   "metadata": {},
   "source": [
    "##### 根据后续探索的问题，再考虑是否处理这个异常值"
   ]
  },
  {
   "cell_type": "markdown",
   "metadata": {},
   "source": [
    "## 数据探索分析"
   ]
  },
  {
   "cell_type": "code",
   "execution_count": 14,
   "metadata": {},
   "outputs": [
    {
     "data": {
      "text/html": [
       "<div>\n",
       "<style scoped>\n",
       "    .dataframe tbody tr th:only-of-type {\n",
       "        vertical-align: middle;\n",
       "    }\n",
       "\n",
       "    .dataframe tbody tr th {\n",
       "        vertical-align: top;\n",
       "    }\n",
       "\n",
       "    .dataframe thead th {\n",
       "        text-align: right;\n",
       "    }\n",
       "</style>\n",
       "<table border=\"1\" class=\"dataframe\">\n",
       "  <thead>\n",
       "    <tr style=\"text-align: right;\">\n",
       "      <th></th>\n",
       "      <th>region</th>\n",
       "      <th>times</th>\n",
       "    </tr>\n",
       "  </thead>\n",
       "  <tbody>\n",
       "    <tr>\n",
       "      <th>0</th>\n",
       "      <td>The Riverlands</td>\n",
       "      <td>17</td>\n",
       "    </tr>\n",
       "    <tr>\n",
       "      <th>1</th>\n",
       "      <td>The North</td>\n",
       "      <td>10</td>\n",
       "    </tr>\n",
       "    <tr>\n",
       "      <th>2</th>\n",
       "      <td>The Westerlands</td>\n",
       "      <td>3</td>\n",
       "    </tr>\n",
       "    <tr>\n",
       "      <th>3</th>\n",
       "      <td>The Stormlands</td>\n",
       "      <td>3</td>\n",
       "    </tr>\n",
       "    <tr>\n",
       "      <th>4</th>\n",
       "      <td>The Reach</td>\n",
       "      <td>2</td>\n",
       "    </tr>\n",
       "    <tr>\n",
       "      <th>5</th>\n",
       "      <td>The Crownlands</td>\n",
       "      <td>2</td>\n",
       "    </tr>\n",
       "    <tr>\n",
       "      <th>6</th>\n",
       "      <td>Beyond the Wall</td>\n",
       "      <td>1</td>\n",
       "    </tr>\n",
       "  </tbody>\n",
       "</table>\n",
       "</div>"
      ],
      "text/plain": [
       "            region  times\n",
       "0   The Riverlands     17\n",
       "1        The North     10\n",
       "2  The Westerlands      3\n",
       "3   The Stormlands      3\n",
       "4        The Reach      2\n",
       "5   The Crownlands      2\n",
       "6  Beyond the Wall      1"
      ]
     },
     "execution_count": 14,
     "metadata": {},
     "output_type": "execute_result"
    }
   ],
   "source": [
    "# In exploratory data analysis, please make sure of using statistics and visualizations\n",
    "#问题1：哪一个区域发生了最多的战争？\n",
    "df_region= df[['region']]\n",
    "df_region_counts = df_region.region.value_counts().reset_index()\n",
    "df_region_counts.columns = ['region', 'times']\n",
    "df_region_counts"
   ]
  },
  {
   "cell_type": "code",
   "execution_count": 15,
   "metadata": {},
   "outputs": [
    {
     "data": {
      "image/png": "[encoded data removed]",
      "text/plain": [
       "<Figure size 360x360 with 1 Axes>"
      ]
     },
     "metadata": {
      "needs_background": "light"
     },
     "output_type": "display_data"
    }
   ],
   "source": [
    "sns.catplot(x=\"times\",y=\"region\",data=df_region_counts,kind='bar')\n",
    "plt.title(\"区域发生战争的次数统计\")\n",
    "plt.xticks(df_region_counts.times)\n",
    "plt.show()"
   ]
  },
  {
   "cell_type": "markdown",
   "metadata": {},
   "source": [
    "#### The Riverlands 发生战争次数最多，总共发生了17次战争"
   ]
  },
  {
   "cell_type": "code",
   "execution_count": 36,
   "metadata": {},
   "outputs": [],
   "source": [
    "#问题2 哪种类型的战争胜率高 这类问题只需要获取 战争类型和战争结果两列的值\n",
    "df_battle_type = df[['battle_type','attacker_outcome']]"
   ]
  },
  {
   "cell_type": "code",
   "execution_count": 37,
   "metadata": {
    "scrolled": true
   },
   "outputs": [
    {
     "data": {
      "text/html": [
       "<div>\n",
       "<style scoped>\n",
       "    .dataframe tbody tr th:only-of-type {\n",
       "        vertical-align: middle;\n",
       "    }\n",
       "\n",
       "    .dataframe tbody tr th {\n",
       "        vertical-align: top;\n",
       "    }\n",
       "\n",
       "    .dataframe thead th {\n",
       "        text-align: right;\n",
       "    }\n",
       "</style>\n",
       "<table border=\"1\" class=\"dataframe\">\n",
       "  <thead>\n",
       "    <tr style=\"text-align: right;\">\n",
       "      <th></th>\n",
       "      <th>battle_type</th>\n",
       "      <th>attacker_outcome</th>\n",
       "    </tr>\n",
       "  </thead>\n",
       "  <tbody>\n",
       "    <tr>\n",
       "      <th>0</th>\n",
       "      <td>pitched battle</td>\n",
       "      <td>win</td>\n",
       "    </tr>\n",
       "    <tr>\n",
       "      <th>1</th>\n",
       "      <td>ambush</td>\n",
       "      <td>win</td>\n",
       "    </tr>\n",
       "    <tr>\n",
       "      <th>2</th>\n",
       "      <td>pitched battle</td>\n",
       "      <td>win</td>\n",
       "    </tr>\n",
       "    <tr>\n",
       "      <th>3</th>\n",
       "      <td>pitched battle</td>\n",
       "      <td>loss</td>\n",
       "    </tr>\n",
       "    <tr>\n",
       "      <th>4</th>\n",
       "      <td>ambush</td>\n",
       "      <td>win</td>\n",
       "    </tr>\n",
       "  </tbody>\n",
       "</table>\n",
       "</div>"
      ],
      "text/plain": [
       "      battle_type attacker_outcome\n",
       "0  pitched battle              win\n",
       "1          ambush              win\n",
       "2  pitched battle              win\n",
       "3  pitched battle             loss\n",
       "4          ambush              win"
      ]
     },
     "execution_count": 37,
     "metadata": {},
     "output_type": "execute_result"
    }
   ],
   "source": [
    "df_battle_type.head()"
   ]
  },
  {
   "cell_type": "code",
   "execution_count": 38,
   "metadata": {},
   "outputs": [
    {
     "data": {
      "text/html": [
       "<div>\n",
       "<style scoped>\n",
       "    .dataframe tbody tr th:only-of-type {\n",
       "        vertical-align: middle;\n",
       "    }\n",
       "\n",
       "    .dataframe tbody tr th {\n",
       "        vertical-align: top;\n",
       "    }\n",
       "\n",
       "    .dataframe thead th {\n",
       "        text-align: right;\n",
       "    }\n",
       "</style>\n",
       "<table border=\"1\" class=\"dataframe\">\n",
       "  <thead>\n",
       "    <tr style=\"text-align: right;\">\n",
       "      <th></th>\n",
       "      <th>battle_type</th>\n",
       "      <th>attacker_outcome</th>\n",
       "    </tr>\n",
       "  </thead>\n",
       "  <tbody>\n",
       "    <tr>\n",
       "      <th>37</th>\n",
       "      <td>NaN</td>\n",
       "      <td>NaN</td>\n",
       "    </tr>\n",
       "  </tbody>\n",
       "</table>\n",
       "</div>"
      ],
      "text/plain": [
       "   battle_type attacker_outcome\n",
       "37         NaN              NaN"
      ]
     },
     "execution_count": 38,
     "metadata": {},
     "output_type": "execute_result"
    }
   ],
   "source": [
    "#数据是否有空值\n",
    "df_battle_type[df_battle_type.isnull().T.any()]"
   ]
  },
  {
   "cell_type": "code",
   "execution_count": 39,
   "metadata": {},
   "outputs": [
    {
     "name": "stderr",
     "output_type": "stream",
     "text": [
      "/anaconda3/lib/python3.7/site-packages/pandas/core/frame.py:3697: SettingWithCopyWarning: \n",
      "A value is trying to be set on a copy of a slice from a DataFrame\n",
      "\n",
      "See the caveats in the documentation: http://pandas.pydata.org/pandas-docs/stable/indexing.html#indexing-view-versus-copy\n",
      "  errors=errors)\n"
     ]
    }
   ],
   "source": [
    "df_battle_type.drop(axis=0,index=37,inplace=True)"
   ]
  },
  {
   "cell_type": "code",
   "execution_count": 42,
   "metadata": {},
   "outputs": [
    {
     "name": "stderr",
     "output_type": "stream",
     "text": [
      "/anaconda3/lib/python3.7/site-packages/ipykernel_launcher.py:1: SettingWithCopyWarning: \n",
      "A value is trying to be set on a copy of a slice from a DataFrame.\n",
      "Try using .loc[row_indexer,col_indexer] = value instead\n",
      "\n",
      "See the caveats in the documentation: http://pandas.pydata.org/pandas-docs/stable/indexing.html#indexing-view-versus-copy\n",
      "  \"\"\"Entry point for launching an IPython kernel.\n"
     ]
    },
    {
     "data": {
      "text/html": [
       "<div>\n",
       "<style scoped>\n",
       "    .dataframe tbody tr th:only-of-type {\n",
       "        vertical-align: middle;\n",
       "    }\n",
       "\n",
       "    .dataframe tbody tr th {\n",
       "        vertical-align: top;\n",
       "    }\n",
       "\n",
       "    .dataframe thead th {\n",
       "        text-align: right;\n",
       "    }\n",
       "</style>\n",
       "<table border=\"1\" class=\"dataframe\">\n",
       "  <thead>\n",
       "    <tr style=\"text-align: right;\">\n",
       "      <th></th>\n",
       "      <th>battle_type</th>\n",
       "      <th>attacker_outcome</th>\n",
       "      <th>count</th>\n",
       "    </tr>\n",
       "  </thead>\n",
       "  <tbody>\n",
       "    <tr>\n",
       "      <th>0</th>\n",
       "      <td>pitched battle</td>\n",
       "      <td>win</td>\n",
       "      <td>1</td>\n",
       "    </tr>\n",
       "    <tr>\n",
       "      <th>1</th>\n",
       "      <td>ambush</td>\n",
       "      <td>win</td>\n",
       "      <td>1</td>\n",
       "    </tr>\n",
       "    <tr>\n",
       "      <th>2</th>\n",
       "      <td>pitched battle</td>\n",
       "      <td>win</td>\n",
       "      <td>1</td>\n",
       "    </tr>\n",
       "    <tr>\n",
       "      <th>3</th>\n",
       "      <td>pitched battle</td>\n",
       "      <td>loss</td>\n",
       "      <td>1</td>\n",
       "    </tr>\n",
       "    <tr>\n",
       "      <th>4</th>\n",
       "      <td>ambush</td>\n",
       "      <td>win</td>\n",
       "      <td>1</td>\n",
       "    </tr>\n",
       "  </tbody>\n",
       "</table>\n",
       "</div>"
      ],
      "text/plain": [
       "      battle_type attacker_outcome  count\n",
       "0  pitched battle              win      1\n",
       "1          ambush              win      1\n",
       "2  pitched battle              win      1\n",
       "3  pitched battle             loss      1\n",
       "4          ambush              win      1"
      ]
     },
     "execution_count": 42,
     "metadata": {},
     "output_type": "execute_result"
    }
   ],
   "source": [
    "df_battle_type['count']=1\n",
    "df_battle_type.head()"
   ]
  },
  {
   "cell_type": "code",
   "execution_count": 50,
   "metadata": {},
   "outputs": [
    {
     "data": {
      "text/html": [
       "<div>\n",
       "<style scoped>\n",
       "    .dataframe tbody tr th:only-of-type {\n",
       "        vertical-align: middle;\n",
       "    }\n",
       "\n",
       "    .dataframe tbody tr th {\n",
       "        vertical-align: top;\n",
       "    }\n",
       "\n",
       "    .dataframe thead th {\n",
       "        text-align: right;\n",
       "    }\n",
       "</style>\n",
       "<table border=\"1\" class=\"dataframe\">\n",
       "  <thead>\n",
       "    <tr style=\"text-align: right;\">\n",
       "      <th></th>\n",
       "      <th>battle_type</th>\n",
       "      <th>attacker_outcome</th>\n",
       "      <th>count</th>\n",
       "    </tr>\n",
       "  </thead>\n",
       "  <tbody>\n",
       "    <tr>\n",
       "      <th>0</th>\n",
       "      <td>ambush</td>\n",
       "      <td>win</td>\n",
       "      <td>10</td>\n",
       "    </tr>\n",
       "    <tr>\n",
       "      <th>1</th>\n",
       "      <td>pitched battle</td>\n",
       "      <td>loss</td>\n",
       "      <td>4</td>\n",
       "    </tr>\n",
       "    <tr>\n",
       "      <th>2</th>\n",
       "      <td>pitched battle</td>\n",
       "      <td>win</td>\n",
       "      <td>10</td>\n",
       "    </tr>\n",
       "    <tr>\n",
       "      <th>3</th>\n",
       "      <td>razing</td>\n",
       "      <td>win</td>\n",
       "      <td>2</td>\n",
       "    </tr>\n",
       "    <tr>\n",
       "      <th>4</th>\n",
       "      <td>siege</td>\n",
       "      <td>loss</td>\n",
       "      <td>1</td>\n",
       "    </tr>\n",
       "    <tr>\n",
       "      <th>5</th>\n",
       "      <td>siege</td>\n",
       "      <td>win</td>\n",
       "      <td>10</td>\n",
       "    </tr>\n",
       "  </tbody>\n",
       "</table>\n",
       "</div>"
      ],
      "text/plain": [
       "      battle_type attacker_outcome  count\n",
       "0          ambush              win     10\n",
       "1  pitched battle             loss      4\n",
       "2  pitched battle              win     10\n",
       "3          razing              win      2\n",
       "4           siege             loss      1\n",
       "5           siege              win     10"
      ]
     },
     "execution_count": 50,
     "metadata": {},
     "output_type": "execute_result"
    }
   ],
   "source": [
    "#统计各个战争类型的胜负次数\n",
    "df_battle_count = df_battle_type.groupby(['battle_type','attacker_outcome']).sum()['count'].reset_index()\n",
    "df_battle_count"
   ]
  },
  {
   "cell_type": "code",
   "execution_count": 51,
   "metadata": {},
   "outputs": [
    {
     "data": {
      "text/html": [
       "<div>\n",
       "<style scoped>\n",
       "    .dataframe tbody tr th:only-of-type {\n",
       "        vertical-align: middle;\n",
       "    }\n",
       "\n",
       "    .dataframe tbody tr th {\n",
       "        vertical-align: top;\n",
       "    }\n",
       "\n",
       "    .dataframe thead th {\n",
       "        text-align: right;\n",
       "    }\n",
       "</style>\n",
       "<table border=\"1\" class=\"dataframe\">\n",
       "  <thead>\n",
       "    <tr style=\"text-align: right;\">\n",
       "      <th>attacker_outcome</th>\n",
       "      <th>battle_type</th>\n",
       "      <th>loss</th>\n",
       "      <th>win</th>\n",
       "    </tr>\n",
       "  </thead>\n",
       "  <tbody>\n",
       "    <tr>\n",
       "      <th>0</th>\n",
       "      <td>ambush</td>\n",
       "      <td>0</td>\n",
       "      <td>10</td>\n",
       "    </tr>\n",
       "    <tr>\n",
       "      <th>1</th>\n",
       "      <td>pitched battle</td>\n",
       "      <td>4</td>\n",
       "      <td>10</td>\n",
       "    </tr>\n",
       "    <tr>\n",
       "      <th>2</th>\n",
       "      <td>razing</td>\n",
       "      <td>0</td>\n",
       "      <td>2</td>\n",
       "    </tr>\n",
       "    <tr>\n",
       "      <th>3</th>\n",
       "      <td>siege</td>\n",
       "      <td>1</td>\n",
       "      <td>10</td>\n",
       "    </tr>\n",
       "  </tbody>\n",
       "</table>\n",
       "</div>"
      ],
      "text/plain": [
       "attacker_outcome     battle_type  loss  win\n",
       "0                         ambush     0   10\n",
       "1                 pitched battle     4   10\n",
       "2                         razing     0    2\n",
       "3                          siege     1   10"
      ]
     },
     "execution_count": 51,
     "metadata": {},
     "output_type": "execute_result"
    }
   ],
   "source": [
    "battletype=df_battle_type.pivot_table('count',index='battle_type',columns='attacker_outcome',aggfunc=sum,fill_value=0).reset_index()\n",
    "battletype"
   ]
  },
  {
   "cell_type": "code",
   "execution_count": 52,
   "metadata": {},
   "outputs": [],
   "source": [
    "#计算获胜率和失败率\n",
    "battletype['win_rate'] = battletype.win/(battletype.win+battletype.loss)\n",
    "battletype['loss_rate'] = battletype.loss/(battletype.win+battletype.loss)"
   ]
  },
  {
   "cell_type": "code",
   "execution_count": 55,
   "metadata": {},
   "outputs": [
    {
     "data": {
      "text/html": [
       "<div>\n",
       "<style scoped>\n",
       "    .dataframe tbody tr th:only-of-type {\n",
       "        vertical-align: middle;\n",
       "    }\n",
       "\n",
       "    .dataframe tbody tr th {\n",
       "        vertical-align: top;\n",
       "    }\n",
       "\n",
       "    .dataframe thead th {\n",
       "        text-align: right;\n",
       "    }\n",
       "</style>\n",
       "<table border=\"1\" class=\"dataframe\">\n",
       "  <thead>\n",
       "    <tr style=\"text-align: right;\">\n",
       "      <th>attacker_outcome</th>\n",
       "      <th>battle_type</th>\n",
       "      <th>loss</th>\n",
       "      <th>win</th>\n",
       "      <th>win_rate</th>\n",
       "      <th>loss_rate</th>\n",
       "    </tr>\n",
       "  </thead>\n",
       "  <tbody>\n",
       "    <tr>\n",
       "      <th>0</th>\n",
       "      <td>ambush</td>\n",
       "      <td>0</td>\n",
       "      <td>10</td>\n",
       "      <td>1.000000</td>\n",
       "      <td>0.000000</td>\n",
       "    </tr>\n",
       "    <tr>\n",
       "      <th>1</th>\n",
       "      <td>pitched battle</td>\n",
       "      <td>4</td>\n",
       "      <td>10</td>\n",
       "      <td>0.714286</td>\n",
       "      <td>0.285714</td>\n",
       "    </tr>\n",
       "    <tr>\n",
       "      <th>2</th>\n",
       "      <td>razing</td>\n",
       "      <td>0</td>\n",
       "      <td>2</td>\n",
       "      <td>1.000000</td>\n",
       "      <td>0.000000</td>\n",
       "    </tr>\n",
       "    <tr>\n",
       "      <th>3</th>\n",
       "      <td>siege</td>\n",
       "      <td>1</td>\n",
       "      <td>10</td>\n",
       "      <td>0.909091</td>\n",
       "      <td>0.090909</td>\n",
       "    </tr>\n",
       "  </tbody>\n",
       "</table>\n",
       "</div>"
      ],
      "text/plain": [
       "attacker_outcome     battle_type  loss  win  win_rate  loss_rate\n",
       "0                         ambush     0   10  1.000000   0.000000\n",
       "1                 pitched battle     4   10  0.714286   0.285714\n",
       "2                         razing     0    2  1.000000   0.000000\n",
       "3                          siege     1   10  0.909091   0.090909"
      ]
     },
     "execution_count": 55,
     "metadata": {},
     "output_type": "execute_result"
    }
   ],
   "source": [
    "battletype"
   ]
  },
  {
   "cell_type": "code",
   "execution_count": 65,
   "metadata": {},
   "outputs": [
    {
     "data": {
      "image/png": "[encoded data removed]",
      "text/plain": [
       "<Figure size 432x288 with 1 Axes>"
      ]
     },
     "metadata": {
      "needs_background": "light"
     },
     "output_type": "display_data"
    }
   ],
   "source": [
    "#绘制条形图\n",
    "p=battletype.plot.barh(x='battle_type', y=['win_rate','loss_rate'],stacked=True)\n",
    "p.set(xticklabels = \"\", xlim = [0, 1], ylabel = \"战争类型\", xlabel = \"胜率vs失败率\")\n",
    "plt.title('战争胜率比较', fontsize =15)\n",
    "plt.legend(loc='center', bbox_to_anchor=(1, 1.1))\n",
    "plt.show()"
   ]
  },
  {
   "cell_type": "markdown",
   "metadata": {},
   "source": [
    "####  战争类型为ambush和razing的战争胜率最高达到了100%（虽然样本数量很少）"
   ]
  },
  {
   "cell_type": "code",
   "execution_count": 78,
   "metadata": {},
   "outputs": [],
   "source": [
    "#### 研究attacker_size 和 defender_size相关性\n",
    "df_att_de = df[['attacker_size','defender_size']]"
   ]
  },
  {
   "cell_type": "code",
   "execution_count": 80,
   "metadata": {},
   "outputs": [],
   "source": [
    "#去除空值\n",
    "df_att_de = df_att_de.dropna()"
   ]
  },
  {
   "cell_type": "code",
   "execution_count": 81,
   "metadata": {},
   "outputs": [
    {
     "data": {
      "text/html": [
       "<div>\n",
       "<style scoped>\n",
       "    .dataframe tbody tr th:only-of-type {\n",
       "        vertical-align: middle;\n",
       "    }\n",
       "\n",
       "    .dataframe tbody tr th {\n",
       "        vertical-align: top;\n",
       "    }\n",
       "\n",
       "    .dataframe thead th {\n",
       "        text-align: right;\n",
       "    }\n",
       "</style>\n",
       "<table border=\"1\" class=\"dataframe\">\n",
       "  <thead>\n",
       "    <tr style=\"text-align: right;\">\n",
       "      <th></th>\n",
       "      <th>attacker_size</th>\n",
       "      <th>defender_size</th>\n",
       "    </tr>\n",
       "  </thead>\n",
       "  <tbody>\n",
       "    <tr>\n",
       "      <th>count</th>\n",
       "      <td>16.000000</td>\n",
       "      <td>16.00000</td>\n",
       "    </tr>\n",
       "    <tr>\n",
       "      <th>mean</th>\n",
       "      <td>13864.812500</td>\n",
       "      <td>7238.43750</td>\n",
       "    </tr>\n",
       "    <tr>\n",
       "      <th>std</th>\n",
       "      <td>24080.059073</td>\n",
       "      <td>6368.05091</td>\n",
       "    </tr>\n",
       "    <tr>\n",
       "      <th>min</th>\n",
       "      <td>100.000000</td>\n",
       "      <td>100.00000</td>\n",
       "    </tr>\n",
       "    <tr>\n",
       "      <th>25%</th>\n",
       "      <td>3093.750000</td>\n",
       "      <td>1810.00000</td>\n",
       "    </tr>\n",
       "    <tr>\n",
       "      <th>50%</th>\n",
       "      <td>5500.000000</td>\n",
       "      <td>6625.00000</td>\n",
       "    </tr>\n",
       "    <tr>\n",
       "      <th>75%</th>\n",
       "      <td>15750.000000</td>\n",
       "      <td>10000.00000</td>\n",
       "    </tr>\n",
       "    <tr>\n",
       "      <th>max</th>\n",
       "      <td>100000.000000</td>\n",
       "      <td>20000.00000</td>\n",
       "    </tr>\n",
       "  </tbody>\n",
       "</table>\n",
       "</div>"
      ],
      "text/plain": [
       "       attacker_size  defender_size\n",
       "count      16.000000       16.00000\n",
       "mean    13864.812500     7238.43750\n",
       "std     24080.059073     6368.05091\n",
       "min       100.000000      100.00000\n",
       "25%      3093.750000     1810.00000\n",
       "50%      5500.000000     6625.00000\n",
       "75%     15750.000000    10000.00000\n",
       "max    100000.000000    20000.00000"
      ]
     },
     "execution_count": 81,
     "metadata": {},
     "output_type": "execute_result"
    }
   ],
   "source": [
    "df_att_de.describe()"
   ]
  },
  {
   "cell_type": "code",
   "execution_count": 84,
   "metadata": {},
   "outputs": [],
   "source": [
    "#之前分析attacker_size 的异常值为100000,通过IQR去除异常值\n",
    "att_Q1 = df_att_de['attacker_size'].quantile(0.25)\n",
    "att_Q3 = df_att_de['attacker_size'].quantile(0.75)\n",
    "IQR = att_Q3 - att_Q1\n",
    "outlier_step = IQR*1.5\n",
    "up_bound=att_Q3+outlier_step\n",
    "low_bound=att_Q1-outlier_step\n",
    "#df_att_de[df_att_de['attcker_size'] < 100000]"
   ]
  },
  {
   "cell_type": "code",
   "execution_count": 86,
   "metadata": {},
   "outputs": [],
   "source": [
    "df_att_de = df_att_de.query('attacker_size > @low_bound & attacker_size < @up_bound')"
   ]
  },
  {
   "cell_type": "code",
   "execution_count": 89,
   "metadata": {},
   "outputs": [
    {
     "data": {
      "text/html": [
       "<div>\n",
       "<style scoped>\n",
       "    .dataframe tbody tr th:only-of-type {\n",
       "        vertical-align: middle;\n",
       "    }\n",
       "\n",
       "    .dataframe tbody tr th {\n",
       "        vertical-align: top;\n",
       "    }\n",
       "\n",
       "    .dataframe thead th {\n",
       "        text-align: right;\n",
       "    }\n",
       "</style>\n",
       "<table border=\"1\" class=\"dataframe\">\n",
       "  <thead>\n",
       "    <tr style=\"text-align: right;\">\n",
       "      <th></th>\n",
       "      <th>attacker_size</th>\n",
       "      <th>defender_size</th>\n",
       "    </tr>\n",
       "  </thead>\n",
       "  <tbody>\n",
       "    <tr>\n",
       "      <th>count</th>\n",
       "      <td>15.000000</td>\n",
       "      <td>15.000000</td>\n",
       "    </tr>\n",
       "    <tr>\n",
       "      <th>mean</th>\n",
       "      <td>8122.466667</td>\n",
       "      <td>7638.333333</td>\n",
       "    </tr>\n",
       "    <tr>\n",
       "      <th>std</th>\n",
       "      <td>7482.599404</td>\n",
       "      <td>6380.221018</td>\n",
       "    </tr>\n",
       "    <tr>\n",
       "      <th>min</th>\n",
       "      <td>100.000000</td>\n",
       "      <td>100.000000</td>\n",
       "    </tr>\n",
       "    <tr>\n",
       "      <th>25%</th>\n",
       "      <td>2687.500000</td>\n",
       "      <td>2750.000000</td>\n",
       "    </tr>\n",
       "    <tr>\n",
       "      <th>50%</th>\n",
       "      <td>5000.000000</td>\n",
       "      <td>7250.000000</td>\n",
       "    </tr>\n",
       "    <tr>\n",
       "      <th>75%</th>\n",
       "      <td>15000.000000</td>\n",
       "      <td>10000.000000</td>\n",
       "    </tr>\n",
       "    <tr>\n",
       "      <th>max</th>\n",
       "      <td>21000.000000</td>\n",
       "      <td>20000.000000</td>\n",
       "    </tr>\n",
       "  </tbody>\n",
       "</table>\n",
       "</div>"
      ],
      "text/plain": [
       "       attacker_size  defender_size\n",
       "count      15.000000      15.000000\n",
       "mean     8122.466667    7638.333333\n",
       "std      7482.599404    6380.221018\n",
       "min       100.000000     100.000000\n",
       "25%      2687.500000    2750.000000\n",
       "50%      5000.000000    7250.000000\n",
       "75%     15000.000000   10000.000000\n",
       "max     21000.000000   20000.000000"
      ]
     },
     "execution_count": 89,
     "metadata": {},
     "output_type": "execute_result"
    }
   ],
   "source": [
    "df_att_de.describe()"
   ]
  },
  {
   "cell_type": "code",
   "execution_count": 97,
   "metadata": {},
   "outputs": [],
   "source": [
    "#增加截距 intercept\n",
    "df_att_de['intercept'] = 1"
   ]
  },
  {
   "cell_type": "code",
   "execution_count": 92,
   "metadata": {},
   "outputs": [],
   "source": [
    "import statsmodels.api as sm"
   ]
  },
  {
   "cell_type": "code",
   "execution_count": 100,
   "metadata": {},
   "outputs": [],
   "source": [
    "lm = sm.OLS(df_att_de[['attacker_size']],df_att_de[['defender_size','intercept']])\n",
    "result = lm.fit()"
   ]
  },
  {
   "cell_type": "code",
   "execution_count": 101,
   "metadata": {},
   "outputs": [
    {
     "name": "stdout",
     "output_type": "stream",
     "text": [
      "                            OLS Regression Results                            \n",
      "==============================================================================\n",
      "Dep. Variable:          attacker_size   R-squared:                       0.192\n",
      "Model:                            OLS   Adj. R-squared:                  0.130\n",
      "Method:                 Least Squares   F-statistic:                     3.099\n",
      "Date:                Sat, 13 Apr 2019   Prob (F-statistic):              0.102\n",
      "Time:                        20:59:27   Log-Likelihood:                -152.97\n",
      "No. Observations:                  15   AIC:                             309.9\n",
      "Df Residuals:                      13   BIC:                             311.4\n",
      "Df Model:                           1                                         \n",
      "Covariance Type:            nonrobust                                         \n",
      "=================================================================================\n",
      "                    coef    std err          t      P>|t|      [0.025      0.975]\n",
      "---------------------------------------------------------------------------------\n",
      "defender_size     0.5145      0.292      1.760      0.102      -0.117       1.146\n",
      "intercept      4192.2778   2868.919      1.461      0.168   -2005.645    1.04e+04\n",
      "==============================================================================\n",
      "Omnibus:                        2.034   Durbin-Watson:                   2.081\n",
      "Prob(Omnibus):                  0.362   Jarque-Bera (JB):                1.585\n",
      "Skew:                           0.702   Prob(JB):                        0.453\n",
      "Kurtosis:                       2.248   Cond. No.                     1.56e+04\n",
      "==============================================================================\n",
      "\n",
      "Warnings:\n",
      "[1] Standard Errors assume that the covariance matrix of the errors is correctly specified.\n",
      "[2] The condition number is large, 1.56e+04. This might indicate that there are\n",
      "strong multicollinearity or other numerical problems.\n"
     ]
    },
    {
     "name": "stderr",
     "output_type": "stream",
     "text": [
      "/anaconda3/lib/python3.7/site-packages/scipy/stats/stats.py:1394: UserWarning: kurtosistest only valid for n>=20 ... continuing anyway, n=15\n",
      "  \"anyway, n=%i\" % int(n))\n"
     ]
    }
   ],
   "source": [
    "print(result.summary())"
   ]
  },
  {
   "cell_type": "code",
   "execution_count": 102,
   "metadata": {},
   "outputs": [
    {
     "data": {
      "image/png": "[encoded data removed]",
      "text/plain": [
       "<Figure size 432x288 with 1 Axes>"
      ]
     },
     "metadata": {
      "needs_background": "light"
     },
     "output_type": "display_data"
    }
   ],
   "source": [
    "x = df_att_de.attacker_size\n",
    "y = df_att_de.defender_size\n",
    "plt.scatter(x,y, c=\"g\", alpha=0.5)\n",
    "plt.xlabel(\"attacker_size\")\n",
    "plt.ylabel(\"defender_size\")\n",
    "plt.show()"
   ]
  },
  {
   "cell_type": "markdown",
   "metadata": {},
   "source": [
    "#### 由此可以看出attacker_size 与 defender_size 相关性很弱"
   ]
  },
  {
   "cell_type": "markdown",
   "metadata": {},
   "source": [
    "在数据的探索性分析中，请确保你对数据分析中的关键步骤和推理过程进行了记录。你可以自己插入code cell和markdown cell来组织你的报告。"
   ]
  },
  {
   "cell_type": "markdown",
   "metadata": {},
   "source": [
    "## 得出结论"
   ]
  },
  {
   "cell_type": "markdown",
   "metadata": {},
   "source": [
    "**问题**：上面的分析能够回答你提出的问题？通过这些分析你能够得出哪些结论？\n",
    "\n",
    "**答案**：The Riverlands 发生战争次数最多，总共发生了17次战争"
   ]
  },
  {
   "cell_type": "markdown",
   "metadata": {},
   "source": [
    "## 反思"
   ]
  },
  {
   "cell_type": "markdown",
   "metadata": {},
   "source": [
    "**问题**：在你的分析和总结过程中是否存在逻辑严谨。是否有改进的空间? 你可以从下面的一些角度进行思考：\n",
    "1. 数据集是否完整，包含所有想要分析的数据？\n",
    "2. 在对数据进行处理的时候，你的操作（例如删除/填充缺失值）是否可能影响结论？\n",
    "3. 是否还有其他变量（本数据中没有）能够对你的分析有帮助？\n",
    "4. 在得出结论时，你是否混淆了相关性和因果性？\n",
    "\n",
    "**答案**：\n",
    "1. 几乎所有行都包含有空值，但是对于分析“哪个区域发生战争次数最多”的问题无影响，但是样本数量很少\n",
    "2. 统计上述问题删除空值不影响结论\n",
    "3. 针对上述问题无\n",
    "4. 相关性是指两个因素同时发生，因果性是指A事件发生会导致B时间也发生"
   ]
  },
  {
   "cell_type": "markdown",
   "metadata": {},
   "source": [
    "恭喜你完成了此项目！这只是数据分析过程的一个样本：从生成问题、整理数据、探索数据到得出结论。在数据分析(进阶)纳米学位中，你将会学到更多高级的数据分析方法和技术，如果你感兴趣的话，我们鼓励你继续学习后续的课程，掌握更多的数据分析的高级技能！"
   ]
  },
  {
   "cell_type": "markdown",
   "metadata": {},
   "source": [
    "> 若想与他人分享我们的分析结果，除了向他们提供 jupyter Notebook (.ipynb) 文件的副本外，我们还可以将 Notebook 输出导出为一种甚至那些未安装 Python 的人都能打开的形式。从左上方的“文件”菜单，前往“下载为”子菜单。然后你可以选择一个可以更普遍查看的格式，例如 HTML (.html) 。你可能需要额外软件包或软件来执行这些导出。"
   ]
  },
  {
   "cell_type": "code",
   "execution_count": null,
   "metadata": {},
   "outputs": [],
   "source": []
  }
 ],
 "metadata": {
  "kernelspec": {
   "display_name": "Python 3",
   "language": "python",
   "name": "python3"
  },
  "language_info": {
   "codemirror_mode": {
    "name": "ipython",
    "version": 3
   },
   "file_extension": ".py",
   "mimetype": "text/x-python",
   "name": "python",
   "nbconvert_exporter": "python",
   "pygments_lexer": "ipython3",
   "version": "3.7.1"
  }
 },
 "nbformat": 4,
 "nbformat_minor": 2
}
